{
 "cells": [
  {
   "cell_type": "code",
   "execution_count": 39,
   "id": "487118c0-b9c4-4ca6-956a-63a821f6e797",
   "metadata": {},
   "outputs": [],
   "source": [
    "import pandas as pd\n",
    "from pandarallel import pandarallel\n",
    "import numpy as np\n",
    "from tqdm import tqdm\n",
    "import datetime\n",
    "\n",
    "from rectools.dataset.interactions import Interactions\n",
    "from rectools.models.popular import PopularModel\n",
    "from rectools.model_selection.time_split import TimeRangeSplitter\n",
    "from rectools.dataset import Dataset\n",
    "from rectools import Columns\n",
    "from rectools.metrics import calc_metrics, Accuracy, NDCG"
   ]
  },
  {
   "cell_type": "code",
   "execution_count": 2,
   "id": "0f8ec1d6-7916-42b9-be7a-9437337433a8",
   "metadata": {},
   "outputs": [
    {
     "name": "stdout",
     "output_type": "stream",
     "text": [
      "INFO: Pandarallel will run on 6 workers.\n",
      "INFO: Pandarallel will use Memory file system to transfer data between the main process and workers.\n"
     ]
    }
   ],
   "source": [
    "tqdm.pandas()\n",
    "pandarallel.initialize(progress_bar=True)"
   ]
  },
  {
   "cell_type": "markdown",
   "id": "f18980cc-e7f2-4cb9-88c9-d20fd8d1e9b8",
   "metadata": {},
   "source": [
    "### Загрузка, знакомство, подготовка"
   ]
  },
  {
   "cell_type": "markdown",
   "id": "4b4b67d3-b556-4258-be20-e95f822950ba",
   "metadata": {},
   "source": [
    "**Взаимодействия пользователей с фильмами**"
   ]
  },
  {
   "cell_type": "code",
   "execution_count": 3,
   "id": "a359ea46-e833-495f-9f68-d6955886d56a",
   "metadata": {},
   "outputs": [],
   "source": [
    "data = pd.read_csv('ml-latest/ratings.csv')"
   ]
  },
  {
   "cell_type": "code",
   "execution_count": 4,
   "id": "0c0656a0-c480-4ece-84f3-690984287dfa",
   "metadata": {},
   "outputs": [
    {
     "data": {
      "text/html": [
       "<div>\n",
       "<style scoped>\n",
       "    .dataframe tbody tr th:only-of-type {\n",
       "        vertical-align: middle;\n",
       "    }\n",
       "\n",
       "    .dataframe tbody tr th {\n",
       "        vertical-align: top;\n",
       "    }\n",
       "\n",
       "    .dataframe thead th {\n",
       "        text-align: right;\n",
       "    }\n",
       "</style>\n",
       "<table border=\"1\" class=\"dataframe\">\n",
       "  <thead>\n",
       "    <tr style=\"text-align: right;\">\n",
       "      <th></th>\n",
       "      <th>userId</th>\n",
       "      <th>movieId</th>\n",
       "      <th>rating</th>\n",
       "      <th>timestamp</th>\n",
       "    </tr>\n",
       "  </thead>\n",
       "  <tbody>\n",
       "    <tr>\n",
       "      <th>9581688</th>\n",
       "      <td>94221</td>\n",
       "      <td>2411</td>\n",
       "      <td>5.0</td>\n",
       "      <td>1279043298</td>\n",
       "    </tr>\n",
       "    <tr>\n",
       "      <th>5427593</th>\n",
       "      <td>52573</td>\n",
       "      <td>2762</td>\n",
       "      <td>4.0</td>\n",
       "      <td>939797939</td>\n",
       "    </tr>\n",
       "    <tr>\n",
       "      <th>7510398</th>\n",
       "      <td>73500</td>\n",
       "      <td>1302</td>\n",
       "      <td>3.0</td>\n",
       "      <td>854525600</td>\n",
       "    </tr>\n",
       "    <tr>\n",
       "      <th>21189963</th>\n",
       "      <td>206921</td>\n",
       "      <td>1036</td>\n",
       "      <td>3.0</td>\n",
       "      <td>954210491</td>\n",
       "    </tr>\n",
       "    <tr>\n",
       "      <th>20051737</th>\n",
       "      <td>196006</td>\n",
       "      <td>6539</td>\n",
       "      <td>5.0</td>\n",
       "      <td>1346836278</td>\n",
       "    </tr>\n",
       "  </tbody>\n",
       "</table>\n",
       "</div>"
      ],
      "text/plain": [
       "          userId  movieId  rating   timestamp\n",
       "9581688    94221     2411     5.0  1279043298\n",
       "5427593    52573     2762     4.0   939797939\n",
       "7510398    73500     1302     3.0   854525600\n",
       "21189963  206921     1036     3.0   954210491\n",
       "20051737  196006     6539     5.0  1346836278"
      ]
     },
     "execution_count": 4,
     "metadata": {},
     "output_type": "execute_result"
    }
   ],
   "source": [
    "data.sample(5)"
   ]
  },
  {
   "cell_type": "code",
   "execution_count": 5,
   "id": "0ced7d74-2da6-427e-8280-cffc2f5bfb0c",
   "metadata": {},
   "outputs": [
    {
     "name": "stdout",
     "output_type": "stream",
     "text": [
      "<class 'pandas.core.frame.DataFrame'>\n",
      "RangeIndex: 33832162 entries, 0 to 33832161\n",
      "Data columns (total 4 columns):\n",
      " #   Column     Dtype  \n",
      "---  ------     -----  \n",
      " 0   userId     int64  \n",
      " 1   movieId    int64  \n",
      " 2   rating     float64\n",
      " 3   timestamp  int64  \n",
      "dtypes: float64(1), int64(3)\n",
      "memory usage: 1.0 GB\n"
     ]
    }
   ],
   "source": [
    "data.info()"
   ]
  },
  {
   "cell_type": "code",
   "execution_count": 6,
   "id": "a2d2a154-1bb0-4002-91e3-0b3ccfd4eade",
   "metadata": {},
   "outputs": [
    {
     "name": "stdout",
     "output_type": "stream",
     "text": [
      "Испльзовано памяти: 1032.48mb\n"
     ]
    }
   ],
   "source": [
    "print(f'Испльзовано памяти: {data.memory_usage(deep=True).sum() / 1024 / 1024:.2f}mb')"
   ]
  },
  {
   "cell_type": "code",
   "execution_count": 7,
   "id": "3da7c12f-2a92-4006-a819-135efb748a0b",
   "metadata": {},
   "outputs": [
    {
     "data": {
      "application/vnd.jupyter.widget-view+json": {
       "model_id": "b12c4d5af7474c7fa89334463c76d5e0",
       "version_major": 2,
       "version_minor": 0
      },
      "text/plain": [
       "VBox(children=(HBox(children=(IntProgress(value=0, description='0.00%', max=5638694), Label(value='0 / 5638694…"
      ]
     },
     "metadata": {},
     "output_type": "display_data"
    }
   ],
   "source": [
    "#оптимизация хранения данных\n",
    "data['userId'] = data['userId'].astype('int32')\n",
    "data['movieId'] = data['movieId'].astype('int32')\n",
    "data['rating'] = data['rating'].astype('float16')\n",
    "#изменение хранения дат \n",
    "data['timestamp'] = pd.to_datetime(data['timestamp'].parallel_apply(lambda x: pd.Timestamp(x, unit='s').date()))"
   ]
  },
  {
   "cell_type": "code",
   "execution_count": 8,
   "id": "654d9e70-5f6b-4071-aebb-b70914dd299b",
   "metadata": {},
   "outputs": [
    {
     "name": "stdout",
     "output_type": "stream",
     "text": [
      "<class 'pandas.core.frame.DataFrame'>\n",
      "RangeIndex: 33832162 entries, 0 to 33832161\n",
      "Data columns (total 4 columns):\n",
      " #   Column     Dtype         \n",
      "---  ------     -----         \n",
      " 0   userId     int32         \n",
      " 1   movieId    int32         \n",
      " 2   rating     float16       \n",
      " 3   timestamp  datetime64[ns]\n",
      "dtypes: datetime64[ns](1), float16(1), int32(2)\n",
      "memory usage: 580.8 MB\n"
     ]
    }
   ],
   "source": [
    "data.info()"
   ]
  },
  {
   "cell_type": "code",
   "execution_count": 9,
   "id": "75130669-1183-49d6-a5ce-bf498b22c5bf",
   "metadata": {},
   "outputs": [
    {
     "name": "stdout",
     "output_type": "stream",
     "text": [
      "Испльзовано памяти: 580.77mb\n"
     ]
    }
   ],
   "source": [
    "print(f'Испльзовано памяти: {data.memory_usage(deep=True).sum() / 1024 / 1024:.2f}mb')"
   ]
  },
  {
   "cell_type": "markdown",
   "id": "9f0760e1-0df7-42df-9d6a-7bf58c408d80",
   "metadata": {},
   "source": [
    "**Названия фильмов и imbdID**"
   ]
  },
  {
   "cell_type": "code",
   "execution_count": 10,
   "id": "8264d477-6f78-403c-99f8-927fb64e4239",
   "metadata": {},
   "outputs": [],
   "source": [
    "movies_ml = pd.read_csv('ml-latest/movies.csv')"
   ]
  },
  {
   "cell_type": "code",
   "execution_count": 11,
   "id": "0d276c54-458d-4de7-836b-2033c6e0ac85",
   "metadata": {
    "scrolled": true
   },
   "outputs": [
    {
     "data": {
      "text/html": [
       "<div>\n",
       "<style scoped>\n",
       "    .dataframe tbody tr th:only-of-type {\n",
       "        vertical-align: middle;\n",
       "    }\n",
       "\n",
       "    .dataframe tbody tr th {\n",
       "        vertical-align: top;\n",
       "    }\n",
       "\n",
       "    .dataframe thead th {\n",
       "        text-align: right;\n",
       "    }\n",
       "</style>\n",
       "<table border=\"1\" class=\"dataframe\">\n",
       "  <thead>\n",
       "    <tr style=\"text-align: right;\">\n",
       "      <th></th>\n",
       "      <th>movieId</th>\n",
       "      <th>title</th>\n",
       "      <th>genres</th>\n",
       "    </tr>\n",
       "  </thead>\n",
       "  <tbody>\n",
       "    <tr>\n",
       "      <th>52315</th>\n",
       "      <td>183579</td>\n",
       "      <td>Airwolf: The Movie (1984)</td>\n",
       "      <td>Action|Adventure|Sci-Fi|Thriller</td>\n",
       "    </tr>\n",
       "    <tr>\n",
       "      <th>9633</th>\n",
       "      <td>31894</td>\n",
       "      <td>ChubbChubbs!, The (2002)</td>\n",
       "      <td>Animation|Comedy|Sci-Fi</td>\n",
       "    </tr>\n",
       "    <tr>\n",
       "      <th>46096</th>\n",
       "      <td>170583</td>\n",
       "      <td>The Birds II: Land's End (1994)</td>\n",
       "      <td>Horror</td>\n",
       "    </tr>\n",
       "    <tr>\n",
       "      <th>27741</th>\n",
       "      <td>129769</td>\n",
       "      <td>Covert Action (1978)</td>\n",
       "      <td>(no genres listed)</td>\n",
       "    </tr>\n",
       "    <tr>\n",
       "      <th>30440</th>\n",
       "      <td>135833</td>\n",
       "      <td>One-Armed Boxer (1972)</td>\n",
       "      <td>Action|Adventure</td>\n",
       "    </tr>\n",
       "  </tbody>\n",
       "</table>\n",
       "</div>"
      ],
      "text/plain": [
       "       movieId                            title  \\\n",
       "52315   183579        Airwolf: The Movie (1984)   \n",
       "9633     31894         ChubbChubbs!, The (2002)   \n",
       "46096   170583  The Birds II: Land's End (1994)   \n",
       "27741   129769             Covert Action (1978)   \n",
       "30440   135833           One-Armed Boxer (1972)   \n",
       "\n",
       "                                 genres  \n",
       "52315  Action|Adventure|Sci-Fi|Thriller  \n",
       "9633            Animation|Comedy|Sci-Fi  \n",
       "46096                            Horror  \n",
       "27741                (no genres listed)  \n",
       "30440                  Action|Adventure  "
      ]
     },
     "execution_count": 11,
     "metadata": {},
     "output_type": "execute_result"
    }
   ],
   "source": [
    "movies_ml.sample(5)"
   ]
  },
  {
   "cell_type": "code",
   "execution_count": 12,
   "id": "f38c0eaa-c41a-41ee-ae2b-74cc11c74a2e",
   "metadata": {},
   "outputs": [],
   "source": [
    "links_ml = pd.read_csv('ml-latest/links.csv')"
   ]
  },
  {
   "cell_type": "code",
   "execution_count": 13,
   "id": "5ecb5fd6-c825-47c5-9af4-f8d5d7fff957",
   "metadata": {},
   "outputs": [
    {
     "data": {
      "text/html": [
       "<div>\n",
       "<style scoped>\n",
       "    .dataframe tbody tr th:only-of-type {\n",
       "        vertical-align: middle;\n",
       "    }\n",
       "\n",
       "    .dataframe tbody tr th {\n",
       "        vertical-align: top;\n",
       "    }\n",
       "\n",
       "    .dataframe thead th {\n",
       "        text-align: right;\n",
       "    }\n",
       "</style>\n",
       "<table border=\"1\" class=\"dataframe\">\n",
       "  <thead>\n",
       "    <tr style=\"text-align: right;\">\n",
       "      <th></th>\n",
       "      <th>movieId</th>\n",
       "      <th>imdbId</th>\n",
       "      <th>tmdbId</th>\n",
       "    </tr>\n",
       "  </thead>\n",
       "  <tbody>\n",
       "    <tr>\n",
       "      <th>16800</th>\n",
       "      <td>88466</td>\n",
       "      <td>783695</td>\n",
       "      <td>22093.0</td>\n",
       "    </tr>\n",
       "    <tr>\n",
       "      <th>48705</th>\n",
       "      <td>175993</td>\n",
       "      <td>1771636</td>\n",
       "      <td>199887.0</td>\n",
       "    </tr>\n",
       "    <tr>\n",
       "      <th>34577</th>\n",
       "      <td>145072</td>\n",
       "      <td>783494</td>\n",
       "      <td>46526.0</td>\n",
       "    </tr>\n",
       "    <tr>\n",
       "      <th>12583</th>\n",
       "      <td>61037</td>\n",
       "      <td>841925</td>\n",
       "      <td>2012.0</td>\n",
       "    </tr>\n",
       "    <tr>\n",
       "      <th>18746</th>\n",
       "      <td>97880</td>\n",
       "      <td>56930</td>\n",
       "      <td>88912.0</td>\n",
       "    </tr>\n",
       "  </tbody>\n",
       "</table>\n",
       "</div>"
      ],
      "text/plain": [
       "       movieId   imdbId    tmdbId\n",
       "16800    88466   783695   22093.0\n",
       "48705   175993  1771636  199887.0\n",
       "34577   145072   783494   46526.0\n",
       "12583    61037   841925    2012.0\n",
       "18746    97880    56930   88912.0"
      ]
     },
     "execution_count": 13,
     "metadata": {},
     "output_type": "execute_result"
    }
   ],
   "source": [
    "links_ml.sample(5)"
   ]
  },
  {
   "cell_type": "markdown",
   "id": "bc938324-d775-420d-98f6-ac570f970976",
   "metadata": {},
   "source": [
    "## Постановка задачи и baseline"
   ]
  },
  {
   "cell_type": "markdown",
   "id": "99cd982b-26c3-46fe-ad46-70d7b8e828f5",
   "metadata": {},
   "source": [
    "Используя историю взаимодействий пользователей с объектами создать двухэтапную рекомендательную модель, которая значительно превзойдёт базовую по метрике Serendipity (способность удивлять непопулярными релевантными объектами) на валидации, а также удовлетворит меня в ходе тестирования. \n",
    "\n",
    "Валидировать будем на данных последней недели по дням. В качестве бейзлайна возьмём popularity based модель, которая будет советовать самые популярные (больше всего пользователей посмотрело). Реализовывать первый этап и кросс-валидацию будем средствами библиотеки RecTools (https://github.com/MobileTeleSystems/RecTools)"
   ]
  },
  {
   "cell_type": "code",
   "execution_count": 65,
   "id": "930082f5-f422-43f5-9f42-eb5ccfa263ae",
   "metadata": {
    "scrolled": true
   },
   "outputs": [],
   "source": [
    "data.columns = [Columns.User, Columns.Item, Columns.Weight, Columns.Datetime]\n",
    "dataset = Dataset.construct(data)"
   ]
  },
  {
   "cell_type": "code",
   "execution_count": 59,
   "id": "12f8909e-a361-46ef-8b38-5b399a8e78a5",
   "metadata": {},
   "outputs": [],
   "source": [
    "cv = TimeRangeSplitter(test_size='1D', n_splits=7, \n",
    "                      filter_cold_users=False,\n",
    "                      filter_cold_items=False)"
   ]
  },
  {
   "cell_type": "code",
   "execution_count": 81,
   "id": "dcc99a03-9b56-4b86-80ab-90b0e573e26d",
   "metadata": {},
   "outputs": [
    {
     "name": "stdout",
     "output_type": "stream",
     "text": [
      "Max train date: 2023-07-13 00:00:00\n",
      "Max test date: 2023-07-14 00:00:00\n",
      "***************\n",
      "Max train date: 2023-07-14 00:00:00\n",
      "Max test date: 2023-07-15 00:00:00\n",
      "***************\n",
      "Max train date: 2023-07-15 00:00:00\n",
      "Max test date: 2023-07-16 00:00:00\n",
      "***************\n",
      "Max train date: 2023-07-16 00:00:00\n",
      "Max test date: 2023-07-17 00:00:00\n",
      "***************\n",
      "Max train date: 2023-07-17 00:00:00\n",
      "Max test date: 2023-07-18 00:00:00\n",
      "***************\n",
      "Max train date: 2023-07-18 00:00:00\n",
      "Max test date: 2023-07-19 00:00:00\n",
      "***************\n",
      "Max train date: 2023-07-19 00:00:00\n",
      "Max test date: 2023-07-20 00:00:00\n",
      "***************\n"
     ]
    }
   ],
   "source": [
    "for train_ids, test_ids, _ in cv.split(Interactions(data)):\n",
    "    print(f\"Max train date: {data.loc[train_ids]['datetime'].max()}\")\n",
    "    print(f\"Max test date: {data.loc[test_ids]['datetime'].max()}\")\n",
    "    print('***' * 5)    "
   ]
  },
  {
   "cell_type": "code",
   "execution_count": 43,
   "id": "deac0146-d717-47c0-88c9-03355aebfbac",
   "metadata": {
    "scrolled": true
   },
   "outputs": [],
   "source": [
    "baseline_model = PopularModel(period=datetime.timedelta(days=60),\n",
    "                              popularity='n_users')"
   ]
  },
  {
   "cell_type": "code",
   "execution_count": 84,
   "id": "ebef07b2-820e-47cc-bafd-4fb9d05066b9",
   "metadata": {},
   "outputs": [
    {
     "data": {
      "text/plain": [
       "<rectools.models.popular.PopularModel at 0x7fe7346cb100>"
      ]
     },
     "execution_count": 84,
     "metadata": {},
     "output_type": "execute_result"
    }
   ],
   "source": [
    "baseline_model.fit(Dataset.construct(data.loc[train_ids, :]))"
   ]
  },
  {
   "cell_type": "code",
   "execution_count": 93,
   "id": "c15ead17-e2ad-4d0a-bbfb-032ace88127c",
   "metadata": {},
   "outputs": [
    {
     "data": {
      "text/html": [
       "<div>\n",
       "<style scoped>\n",
       "    .dataframe tbody tr th:only-of-type {\n",
       "        vertical-align: middle;\n",
       "    }\n",
       "\n",
       "    .dataframe tbody tr th {\n",
       "        vertical-align: top;\n",
       "    }\n",
       "\n",
       "    .dataframe thead th {\n",
       "        text-align: right;\n",
       "    }\n",
       "</style>\n",
       "<table border=\"1\" class=\"dataframe\">\n",
       "  <thead>\n",
       "    <tr style=\"text-align: right;\">\n",
       "      <th></th>\n",
       "      <th>user_id</th>\n",
       "      <th>item_id</th>\n",
       "      <th>score</th>\n",
       "      <th>rank</th>\n",
       "    </tr>\n",
       "  </thead>\n",
       "  <tbody>\n",
       "    <tr>\n",
       "      <th>0</th>\n",
       "      <td>304</td>\n",
       "      <td>286897</td>\n",
       "      <td>523.0</td>\n",
       "      <td>1</td>\n",
       "    </tr>\n",
       "    <tr>\n",
       "      <th>1</th>\n",
       "      <td>304</td>\n",
       "      <td>283873</td>\n",
       "      <td>344.0</td>\n",
       "      <td>2</td>\n",
       "    </tr>\n",
       "    <tr>\n",
       "      <th>2</th>\n",
       "      <td>304</td>\n",
       "      <td>281096</td>\n",
       "      <td>329.0</td>\n",
       "      <td>3</td>\n",
       "    </tr>\n",
       "    <tr>\n",
       "      <th>3</th>\n",
       "      <td>304</td>\n",
       "      <td>134130</td>\n",
       "      <td>322.0</td>\n",
       "      <td>4</td>\n",
       "    </tr>\n",
       "    <tr>\n",
       "      <th>4</th>\n",
       "      <td>304</td>\n",
       "      <td>593</td>\n",
       "      <td>322.0</td>\n",
       "      <td>5</td>\n",
       "    </tr>\n",
       "    <tr>\n",
       "      <th>...</th>\n",
       "      <td>...</td>\n",
       "      <td>...</td>\n",
       "      <td>...</td>\n",
       "      <td>...</td>\n",
       "    </tr>\n",
       "    <tr>\n",
       "      <th>1125</th>\n",
       "      <td>329954</td>\n",
       "      <td>5952</td>\n",
       "      <td>401.0</td>\n",
       "      <td>6</td>\n",
       "    </tr>\n",
       "    <tr>\n",
       "      <th>1126</th>\n",
       "      <td>329954</td>\n",
       "      <td>285593</td>\n",
       "      <td>386.0</td>\n",
       "      <td>7</td>\n",
       "    </tr>\n",
       "    <tr>\n",
       "      <th>1127</th>\n",
       "      <td>329954</td>\n",
       "      <td>60069</td>\n",
       "      <td>370.0</td>\n",
       "      <td>8</td>\n",
       "    </tr>\n",
       "    <tr>\n",
       "      <th>1128</th>\n",
       "      <td>329954</td>\n",
       "      <td>68954</td>\n",
       "      <td>332.0</td>\n",
       "      <td>9</td>\n",
       "    </tr>\n",
       "    <tr>\n",
       "      <th>1129</th>\n",
       "      <td>329954</td>\n",
       "      <td>281096</td>\n",
       "      <td>329.0</td>\n",
       "      <td>10</td>\n",
       "    </tr>\n",
       "  </tbody>\n",
       "</table>\n",
       "<p>1130 rows × 4 columns</p>\n",
       "</div>"
      ],
      "text/plain": [
       "      user_id  item_id  score  rank\n",
       "0         304   286897  523.0     1\n",
       "1         304   283873  344.0     2\n",
       "2         304   281096  329.0     3\n",
       "3         304   134130  322.0     4\n",
       "4         304      593  322.0     5\n",
       "...       ...      ...    ...   ...\n",
       "1125   329954     5952  401.0     6\n",
       "1126   329954   285593  386.0     7\n",
       "1127   329954    60069  370.0     8\n",
       "1128   329954    68954  332.0     9\n",
       "1129   329954   281096  329.0    10\n",
       "\n",
       "[1130 rows x 4 columns]"
      ]
     },
     "execution_count": 93,
     "metadata": {},
     "output_type": "execute_result"
    }
   ],
   "source": [
    "baseline_model.recommend(users=data.loc[test_ids, Columns.User].unique(),\n",
    "                        dataset=Dataset.construct(pd.concat([data.loc[train_ids, :], data.loc[test_ids, :]])),\n",
    "                        k=10,\n",
    "                        filter_viewed=True)"
   ]
  }
 ],
 "metadata": {
  "kernelspec": {
   "display_name": "Python 3 (ipykernel)",
   "language": "python",
   "name": "python3"
  },
  "language_info": {
   "codemirror_mode": {
    "name": "ipython",
    "version": 3
   },
   "file_extension": ".py",
   "mimetype": "text/x-python",
   "name": "python",
   "nbconvert_exporter": "python",
   "pygments_lexer": "ipython3",
   "version": "3.10.13"
  }
 },
 "nbformat": 4,
 "nbformat_minor": 5
}
