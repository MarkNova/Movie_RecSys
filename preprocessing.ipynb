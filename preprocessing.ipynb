{
 "cells": [
  {
   "cell_type": "code",
   "execution_count": 1,
   "id": "487118c0-b9c4-4ca6-956a-63a821f6e797",
   "metadata": {},
   "outputs": [],
   "source": [
    "import pandas as pd\n",
    "from pandarallel import pandarallel\n",
    "import numpy as np\n",
    "from tqdm import tqdm\n",
    "import datetime\n",
    "from pprint import pprint\n",
    "from time import time\n",
    "\n",
    "from rectools.dataset.interactions import Interactions\n",
    "from rectools.dataset import Dataset\n",
    "from rectools import Columns\n",
    "\n",
    "\n",
    "from implicit.nearest_neighbours import TFIDFRecommender, BM25Recommender\n",
    "\n",
    "from rectools.models import ImplicitItemKNNWrapperModel, RandomModel, PopularModel\n",
    "from rectools.metrics import Precision, Recall, MeanInvUserFreq, Serendipity, calc_metrics\n",
    "from rectools.model_selection.time_split import TimeRangeSplitter\n",
    "\n",
    "\n"
   ]
  },
  {
   "cell_type": "code",
   "execution_count": 2,
   "id": "0f8ec1d6-7916-42b9-be7a-9437337433a8",
   "metadata": {},
   "outputs": [
    {
     "name": "stdout",
     "output_type": "stream",
     "text": [
      "INFO: Pandarallel will run on 6 workers.\n",
      "INFO: Pandarallel will use Memory file system to transfer data between the main process and workers.\n"
     ]
    }
   ],
   "source": [
    "tqdm.pandas()\n",
    "pandarallel.initialize(progress_bar=False)"
   ]
  },
  {
   "cell_type": "markdown",
   "id": "f18980cc-e7f2-4cb9-88c9-d20fd8d1e9b8",
   "metadata": {},
   "source": [
    "### Загрузка, знакомство, подготовка"
   ]
  },
  {
   "cell_type": "markdown",
   "id": "4b4b67d3-b556-4258-be20-e95f822950ba",
   "metadata": {},
   "source": [
    "**Взаимодействия пользователей с фильмами**"
   ]
  },
  {
   "cell_type": "code",
   "execution_count": 3,
   "id": "a359ea46-e833-495f-9f68-d6955886d56a",
   "metadata": {},
   "outputs": [],
   "source": [
    "data = pd.read_csv('ml-latest/ratings.csv')"
   ]
  },
  {
   "cell_type": "code",
   "execution_count": 4,
   "id": "0c0656a0-c480-4ece-84f3-690984287dfa",
   "metadata": {},
   "outputs": [
    {
     "data": {
      "text/html": [
       "<div>\n",
       "<style scoped>\n",
       "    .dataframe tbody tr th:only-of-type {\n",
       "        vertical-align: middle;\n",
       "    }\n",
       "\n",
       "    .dataframe tbody tr th {\n",
       "        vertical-align: top;\n",
       "    }\n",
       "\n",
       "    .dataframe thead th {\n",
       "        text-align: right;\n",
       "    }\n",
       "</style>\n",
       "<table border=\"1\" class=\"dataframe\">\n",
       "  <thead>\n",
       "    <tr style=\"text-align: right;\">\n",
       "      <th></th>\n",
       "      <th>userId</th>\n",
       "      <th>movieId</th>\n",
       "      <th>rating</th>\n",
       "      <th>timestamp</th>\n",
       "    </tr>\n",
       "  </thead>\n",
       "  <tbody>\n",
       "    <tr>\n",
       "      <th>32929398</th>\n",
       "      <td>321972</td>\n",
       "      <td>109487</td>\n",
       "      <td>4.0</td>\n",
       "      <td>1581583188</td>\n",
       "    </tr>\n",
       "    <tr>\n",
       "      <th>11189845</th>\n",
       "      <td>110292</td>\n",
       "      <td>348</td>\n",
       "      <td>3.0</td>\n",
       "      <td>835532205</td>\n",
       "    </tr>\n",
       "    <tr>\n",
       "      <th>33358911</th>\n",
       "      <td>326492</td>\n",
       "      <td>4878</td>\n",
       "      <td>4.5</td>\n",
       "      <td>1478892765</td>\n",
       "    </tr>\n",
       "    <tr>\n",
       "      <th>14223118</th>\n",
       "      <td>139666</td>\n",
       "      <td>5218</td>\n",
       "      <td>3.5</td>\n",
       "      <td>1442040791</td>\n",
       "    </tr>\n",
       "    <tr>\n",
       "      <th>31592259</th>\n",
       "      <td>309143</td>\n",
       "      <td>2396</td>\n",
       "      <td>4.0</td>\n",
       "      <td>1119559190</td>\n",
       "    </tr>\n",
       "  </tbody>\n",
       "</table>\n",
       "</div>"
      ],
      "text/plain": [
       "          userId  movieId  rating   timestamp\n",
       "32929398  321972   109487     4.0  1581583188\n",
       "11189845  110292      348     3.0   835532205\n",
       "33358911  326492     4878     4.5  1478892765\n",
       "14223118  139666     5218     3.5  1442040791\n",
       "31592259  309143     2396     4.0  1119559190"
      ]
     },
     "execution_count": 4,
     "metadata": {},
     "output_type": "execute_result"
    }
   ],
   "source": [
    "data.sample(5)"
   ]
  },
  {
   "cell_type": "code",
   "execution_count": 5,
   "id": "0ced7d74-2da6-427e-8280-cffc2f5bfb0c",
   "metadata": {},
   "outputs": [
    {
     "name": "stdout",
     "output_type": "stream",
     "text": [
      "<class 'pandas.core.frame.DataFrame'>\n",
      "RangeIndex: 33832162 entries, 0 to 33832161\n",
      "Data columns (total 4 columns):\n",
      " #   Column     Dtype  \n",
      "---  ------     -----  \n",
      " 0   userId     int64  \n",
      " 1   movieId    int64  \n",
      " 2   rating     float64\n",
      " 3   timestamp  int64  \n",
      "dtypes: float64(1), int64(3)\n",
      "memory usage: 1.0 GB\n"
     ]
    }
   ],
   "source": [
    "data.info()"
   ]
  },
  {
   "cell_type": "code",
   "execution_count": 6,
   "id": "a2d2a154-1bb0-4002-91e3-0b3ccfd4eade",
   "metadata": {},
   "outputs": [
    {
     "name": "stdout",
     "output_type": "stream",
     "text": [
      "Испльзовано памяти: 1032.48mb\n"
     ]
    }
   ],
   "source": [
    "print(f'Испльзовано памяти: {data.memory_usage(deep=True).sum() / 1024 / 1024:.2f}mb')"
   ]
  },
  {
   "cell_type": "code",
   "execution_count": 7,
   "id": "3da7c12f-2a92-4006-a819-135efb748a0b",
   "metadata": {},
   "outputs": [],
   "source": [
    "#оптимизация хранения данных\n",
    "data['userId'] = data['userId'].astype('int32')\n",
    "data['movieId'] = data['movieId'].astype('int32')\n",
    "data['rating'] = data['rating'].astype('float16')\n",
    "#изменение хранения дат \n",
    "data['timestamp'] = pd.to_datetime(data['timestamp'].parallel_apply(lambda x: pd.Timestamp(x, unit='s').date()))"
   ]
  },
  {
   "cell_type": "code",
   "execution_count": 8,
   "id": "654d9e70-5f6b-4071-aebb-b70914dd299b",
   "metadata": {},
   "outputs": [
    {
     "name": "stdout",
     "output_type": "stream",
     "text": [
      "<class 'pandas.core.frame.DataFrame'>\n",
      "RangeIndex: 33832162 entries, 0 to 33832161\n",
      "Data columns (total 4 columns):\n",
      " #   Column     Dtype         \n",
      "---  ------     -----         \n",
      " 0   userId     int32         \n",
      " 1   movieId    int32         \n",
      " 2   rating     float16       \n",
      " 3   timestamp  datetime64[ns]\n",
      "dtypes: datetime64[ns](1), float16(1), int32(2)\n",
      "memory usage: 580.8 MB\n"
     ]
    }
   ],
   "source": [
    "data.info()"
   ]
  },
  {
   "cell_type": "code",
   "execution_count": 9,
   "id": "75130669-1183-49d6-a5ce-bf498b22c5bf",
   "metadata": {},
   "outputs": [
    {
     "name": "stdout",
     "output_type": "stream",
     "text": [
      "Испльзовано памяти: 580.77mb\n"
     ]
    }
   ],
   "source": [
    "print(f'Испльзовано памяти: {data.memory_usage(deep=True).sum() / 1024 / 1024:.2f}mb')"
   ]
  },
  {
   "cell_type": "markdown",
   "id": "9f0760e1-0df7-42df-9d6a-7bf58c408d80",
   "metadata": {},
   "source": [
    "**Названия фильмов и imbdID**"
   ]
  },
  {
   "cell_type": "code",
   "execution_count": 10,
   "id": "8264d477-6f78-403c-99f8-927fb64e4239",
   "metadata": {},
   "outputs": [],
   "source": [
    "movies_ml = pd.read_csv('ml-latest/movies.csv')"
   ]
  },
  {
   "cell_type": "code",
   "execution_count": 11,
   "id": "0d276c54-458d-4de7-836b-2033c6e0ac85",
   "metadata": {
    "scrolled": true
   },
   "outputs": [
    {
     "data": {
      "text/html": [
       "<div>\n",
       "<style scoped>\n",
       "    .dataframe tbody tr th:only-of-type {\n",
       "        vertical-align: middle;\n",
       "    }\n",
       "\n",
       "    .dataframe tbody tr th {\n",
       "        vertical-align: top;\n",
       "    }\n",
       "\n",
       "    .dataframe thead th {\n",
       "        text-align: right;\n",
       "    }\n",
       "</style>\n",
       "<table border=\"1\" class=\"dataframe\">\n",
       "  <thead>\n",
       "    <tr style=\"text-align: right;\">\n",
       "      <th></th>\n",
       "      <th>movieId</th>\n",
       "      <th>title</th>\n",
       "      <th>genres</th>\n",
       "    </tr>\n",
       "  </thead>\n",
       "  <tbody>\n",
       "    <tr>\n",
       "      <th>86060</th>\n",
       "      <td>287353</td>\n",
       "      <td>Patterns of Evidence: Journey to Mount Sinai (...</td>\n",
       "      <td>Documentary</td>\n",
       "    </tr>\n",
       "    <tr>\n",
       "      <th>58795</th>\n",
       "      <td>197313</td>\n",
       "      <td>A Geisha (1953)</td>\n",
       "      <td>Drama</td>\n",
       "    </tr>\n",
       "    <tr>\n",
       "      <th>76934</th>\n",
       "      <td>254867</td>\n",
       "      <td>Heir (2021)</td>\n",
       "      <td>Horror</td>\n",
       "    </tr>\n",
       "    <tr>\n",
       "      <th>15738</th>\n",
       "      <td>82854</td>\n",
       "      <td>Gulliver's Travels (2010)</td>\n",
       "      <td>Adventure|Comedy|Fantasy</td>\n",
       "    </tr>\n",
       "    <tr>\n",
       "      <th>53953</th>\n",
       "      <td>186975</td>\n",
       "      <td>Love Is a Gun (1994)</td>\n",
       "      <td>Crime|Drama|Mystery</td>\n",
       "    </tr>\n",
       "  </tbody>\n",
       "</table>\n",
       "</div>"
      ],
      "text/plain": [
       "       movieId                                              title  \\\n",
       "86060   287353  Patterns of Evidence: Journey to Mount Sinai (...   \n",
       "58795   197313                                    A Geisha (1953)   \n",
       "76934   254867                                        Heir (2021)   \n",
       "15738    82854                          Gulliver's Travels (2010)   \n",
       "53953   186975                               Love Is a Gun (1994)   \n",
       "\n",
       "                         genres  \n",
       "86060               Documentary  \n",
       "58795                     Drama  \n",
       "76934                    Horror  \n",
       "15738  Adventure|Comedy|Fantasy  \n",
       "53953       Crime|Drama|Mystery  "
      ]
     },
     "execution_count": 11,
     "metadata": {},
     "output_type": "execute_result"
    }
   ],
   "source": [
    "movies_ml.sample(5)"
   ]
  },
  {
   "cell_type": "code",
   "execution_count": 12,
   "id": "f38c0eaa-c41a-41ee-ae2b-74cc11c74a2e",
   "metadata": {},
   "outputs": [],
   "source": [
    "links_ml = pd.read_csv('ml-latest/links.csv')"
   ]
  },
  {
   "cell_type": "code",
   "execution_count": 13,
   "id": "5ecb5fd6-c825-47c5-9af4-f8d5d7fff957",
   "metadata": {},
   "outputs": [
    {
     "data": {
      "text/html": [
       "<div>\n",
       "<style scoped>\n",
       "    .dataframe tbody tr th:only-of-type {\n",
       "        vertical-align: middle;\n",
       "    }\n",
       "\n",
       "    .dataframe tbody tr th {\n",
       "        vertical-align: top;\n",
       "    }\n",
       "\n",
       "    .dataframe thead th {\n",
       "        text-align: right;\n",
       "    }\n",
       "</style>\n",
       "<table border=\"1\" class=\"dataframe\">\n",
       "  <thead>\n",
       "    <tr style=\"text-align: right;\">\n",
       "      <th></th>\n",
       "      <th>movieId</th>\n",
       "      <th>imdbId</th>\n",
       "      <th>tmdbId</th>\n",
       "    </tr>\n",
       "  </thead>\n",
       "  <tbody>\n",
       "    <tr>\n",
       "      <th>72394</th>\n",
       "      <td>233989</td>\n",
       "      <td>8360266</td>\n",
       "      <td>572292.0</td>\n",
       "    </tr>\n",
       "    <tr>\n",
       "      <th>71121</th>\n",
       "      <td>228745</td>\n",
       "      <td>1708459</td>\n",
       "      <td>78059.0</td>\n",
       "    </tr>\n",
       "    <tr>\n",
       "      <th>44964</th>\n",
       "      <td>168174</td>\n",
       "      <td>6090102</td>\n",
       "      <td>432959.0</td>\n",
       "    </tr>\n",
       "    <tr>\n",
       "      <th>81105</th>\n",
       "      <td>272055</td>\n",
       "      <td>921766</td>\n",
       "      <td>159457.0</td>\n",
       "    </tr>\n",
       "    <tr>\n",
       "      <th>1438</th>\n",
       "      <td>1483</td>\n",
       "      <td>115964</td>\n",
       "      <td>884.0</td>\n",
       "    </tr>\n",
       "  </tbody>\n",
       "</table>\n",
       "</div>"
      ],
      "text/plain": [
       "       movieId   imdbId    tmdbId\n",
       "72394   233989  8360266  572292.0\n",
       "71121   228745  1708459   78059.0\n",
       "44964   168174  6090102  432959.0\n",
       "81105   272055   921766  159457.0\n",
       "1438      1483   115964     884.0"
      ]
     },
     "execution_count": 13,
     "metadata": {},
     "output_type": "execute_result"
    }
   ],
   "source": [
    "links_ml.sample(5)"
   ]
  },
  {
   "cell_type": "markdown",
   "id": "bc938324-d775-420d-98f6-ac570f970976",
   "metadata": {},
   "source": [
    "## Постановка задачи и baseline"
   ]
  },
  {
   "cell_type": "markdown",
   "id": "99cd982b-26c3-46fe-ad46-70d7b8e828f5",
   "metadata": {},
   "source": [
    "Используя историю взаимодействий пользователей с объектами создать двухэтапную рекомендательную модель, которая значительно превзойдёт базовую по совокупности метрик Serendipity и MeanInvUserFreq (способность удивлять непопулярными релевантными объектами) на валидации, а также удовлетворит меня в ходе тестирования (выборочный визуальный анализ).\n",
    "\n",
    "Валидировать будем на данных за последние 40 дней, разбив их на 5 фолдов по 8 дней. Реализовывать кросс-валидацию будем средствами библиотеки RecTools (https://github.com/MobileTeleSystems/RecTools). "
   ]
  },
  {
   "cell_type": "code",
   "execution_count": 14,
   "id": "930082f5-f422-43f5-9f42-eb5ccfa263ae",
   "metadata": {},
   "outputs": [
    {
     "data": {
      "text/html": [
       "<div>\n",
       "<style scoped>\n",
       "    .dataframe tbody tr th:only-of-type {\n",
       "        vertical-align: middle;\n",
       "    }\n",
       "\n",
       "    .dataframe tbody tr th {\n",
       "        vertical-align: top;\n",
       "    }\n",
       "\n",
       "    .dataframe thead th {\n",
       "        text-align: right;\n",
       "    }\n",
       "</style>\n",
       "<table border=\"1\" class=\"dataframe\">\n",
       "  <thead>\n",
       "    <tr style=\"text-align: right;\">\n",
       "      <th></th>\n",
       "      <th>user_id</th>\n",
       "      <th>item_id</th>\n",
       "      <th>weight</th>\n",
       "      <th>datetime</th>\n",
       "    </tr>\n",
       "  </thead>\n",
       "  <tbody>\n",
       "    <tr>\n",
       "      <th>27683288</th>\n",
       "      <td>270232</td>\n",
       "      <td>508</td>\n",
       "      <td>5.0</td>\n",
       "      <td>2006-04-25</td>\n",
       "    </tr>\n",
       "    <tr>\n",
       "      <th>19080700</th>\n",
       "      <td>187039</td>\n",
       "      <td>122924</td>\n",
       "      <td>3.0</td>\n",
       "      <td>2021-01-16</td>\n",
       "    </tr>\n",
       "  </tbody>\n",
       "</table>\n",
       "</div>"
      ],
      "text/plain": [
       "          user_id  item_id  weight   datetime\n",
       "27683288   270232      508     5.0 2006-04-25\n",
       "19080700   187039   122924     3.0 2021-01-16"
      ]
     },
     "execution_count": 14,
     "metadata": {},
     "output_type": "execute_result"
    }
   ],
   "source": [
    "# Для более эффективного использования сохраним данные о взаимодействиях в классе Interactions \n",
    "data.columns = [Columns.User, Columns.Item, Columns.Weight, Columns.Datetime]\n",
    "interactions = Interactions(data)\n",
    "interactions.df.sample(2)"
   ]
  },
  {
   "cell_type": "markdown",
   "id": "295a7a13-5993-46a9-b074-fa2d8d541918",
   "metadata": {},
   "source": [
    "**Перекрёстная валидация**\n",
    "\n",
    "Мы будем использовать последние 5 периодов по восемь дней в каждом. "
   ]
  },
  {
   "cell_type": "code",
   "execution_count": 15,
   "id": "12f8909e-a361-46ef-8b38-5b399a8e78a5",
   "metadata": {},
   "outputs": [
    {
     "data": {
      "text/plain": [
       "[(Timestamp('2023-06-11 00:00:00', freq='8D'),\n",
       "  Timestamp('2023-06-19 00:00:00', freq='8D')),\n",
       " (Timestamp('2023-06-19 00:00:00', freq='8D'),\n",
       "  Timestamp('2023-06-27 00:00:00', freq='8D')),\n",
       " (Timestamp('2023-06-27 00:00:00', freq='8D'),\n",
       "  Timestamp('2023-07-05 00:00:00', freq='8D')),\n",
       " (Timestamp('2023-07-05 00:00:00', freq='8D'),\n",
       "  Timestamp('2023-07-13 00:00:00', freq='8D')),\n",
       " (Timestamp('2023-07-13 00:00:00', freq='8D'),\n",
       "  Timestamp('2023-07-21 00:00:00', freq='8D'))]"
      ]
     },
     "execution_count": 15,
     "metadata": {},
     "output_type": "execute_result"
    }
   ],
   "source": [
    "n_splits=5\n",
    "cv = TimeRangeSplitter(test_size='8D', n_splits=n_splits, \n",
    "                      filter_cold_users=False,\n",
    "                      filter_cold_items=True)\n",
    "cv.get_test_fold_borders(interactions)"
   ]
  },
  {
   "cell_type": "markdown",
   "id": "e43a49f9-3411-4f63-bd12-5a4833bc8cab",
   "metadata": {},
   "source": [
    "**Метрики**"
   ]
  },
  {
   "cell_type": "code",
   "execution_count": 16,
   "id": "2bccbaa8-6fc8-4f36-9a60-e91864055d87",
   "metadata": {},
   "outputs": [
    {
     "data": {
      "text/html": [
       "<div>\n",
       "<style scoped>\n",
       "    .dataframe tbody tr th:only-of-type {\n",
       "        vertical-align: middle;\n",
       "    }\n",
       "\n",
       "    .dataframe tbody tr th {\n",
       "        vertical-align: top;\n",
       "    }\n",
       "\n",
       "    .dataframe thead th {\n",
       "        text-align: right;\n",
       "    }\n",
       "</style>\n",
       "<table border=\"1\" class=\"dataframe\">\n",
       "  <thead>\n",
       "    <tr style=\"text-align: right;\">\n",
       "      <th></th>\n",
       "      <th>serendipity</th>\n",
       "      <th>MeanInvUserFreq</th>\n",
       "      <th>prec@20</th>\n",
       "      <th>recall</th>\n",
       "    </tr>\n",
       "  </thead>\n",
       "  <tbody>\n",
       "  </tbody>\n",
       "</table>\n",
       "</div>"
      ],
      "text/plain": [
       "Empty DataFrame\n",
       "Columns: [serendipity, MeanInvUserFreq, prec@20, recall]\n",
       "Index: []"
      ]
     },
     "execution_count": 16,
     "metadata": {},
     "output_type": "execute_result"
    }
   ],
   "source": [
    "K_RECOS = 20\n",
    "metrics = {\n",
    "    \"serendipity\": Serendipity(k=K_RECOS),\n",
    "    \"MeanInvUserFreq\": MeanInvUserFreq(k=K_RECOS),\n",
    "    \"prec@20\": Precision(k=K_RECOS),\n",
    "    \"recall\": Recall(k=K_RECOS)\n",
    "}\n",
    "results_df = pd.DataFrame({key:[] for key in metrics.keys()})\n",
    "results_df"
   ]
  },
  {
   "cell_type": "markdown",
   "id": "8b0b82d2-e603-4e46-91a6-81fd6cb48930",
   "metadata": {},
   "source": [
    "**Бейзлайн (рекомендуем популярное)**\n",
    "\n",
    "`PopularRecommender` будет рекомендовать 20 самых популярных фильмов за последний месяц:"
   ]
  },
  {
   "cell_type": "code",
   "execution_count": 17,
   "id": "5a54b0fb-36a1-406a-842f-88cb8cf8b5ac",
   "metadata": {},
   "outputs": [],
   "source": [
    "class PopularRecommender():\n",
    "    def __init__(self, max_K=100, days=30, item_column='item_id', dt_column='date', user_column='user_id', parallel=False):\n",
    "        self.max_K = max_K\n",
    "        self.days = days\n",
    "        self.item_column = item_column\n",
    "        self.user_column = user_column\n",
    "        self.dt_column = dt_column\n",
    "        self.parallel = parallel\n",
    "        self.recommendations = []\n",
    "        \n",
    "    def fit(self, df, ):\n",
    "        self.df = df\n",
    "        self.users = df[self.user_column].unique()\n",
    "        \n",
    "        min_date = df[self.dt_column].max().normalize() - pd.DateOffset(days=self.days)\n",
    "        \n",
    "        self.recommendations = df.loc[df[self.dt_column] > min_date, self.item_column].value_counts().head(self.max_K).index.values \n",
    "    \n",
    "    def recommend(self, users=None, N=10, one_person=False, person_movie_list=None):\n",
    "        if users is None:\n",
    "            return self.recommendations[:N]\n",
    "            \n",
    "        if isinstance(users, np.ndarray):\n",
    "            users = pd.Series(users)\n",
    "            if self.parallel:\n",
    "                recs = users.parallel_apply(lambda x: np.setdiff1d(self.recommendations,self.df[self.df[self.user_column] == x][self.item_column].values)[:N] if x in self.users else self.recommendations[:N].tolist())\n",
    "            else:\n",
    "                recs = users.progress_apply(lambda x: np.setdiff1d(self.recommendations,self.df[self.df[self.user_column] == x][self.item_column].values)[:N] if x in self.users else self.recommendations[:N].tolist())\n",
    "            \n",
    "            recs = pd.DataFrame(recs)\n",
    "            recs[Columns.User] = users\n",
    "            recs.columns = [Columns.Item, Columns.User]\n",
    "            recs = recs.explode(column='item_id', ignore_index=True)\n",
    "            \n",
    "            ranks = []\n",
    "            for i in recs['user_id'].unique():\n",
    "                n = len(recs[recs['user_id']==i]['item_id'])\n",
    "                ranks += [j for j in range(1, n +1)]\n",
    "            recs[Columns.Rank] = ranks\n",
    "            \n",
    "            return recs"
   ]
  },
  {
   "cell_type": "code",
   "execution_count": 48,
   "id": "e5f77f32-b0f0-46e0-a4ef-a2bb37b780b9",
   "metadata": {},
   "outputs": [],
   "source": [
    "def validation_func(interactions=None,cv=None , model=None, metrics=None, k_recs=None):\n",
    "    split_results = pd.DataFrame({key:[] for key in metrics.keys()})\n",
    "    \n",
    "    for train_ind, test_ind, _ in tqdm(cv.split(interactions)):\n",
    "        train_df = interactions.df.loc[train_ind, :]\n",
    "        df_test = interactions.df.loc[test_ind, :]\n",
    "        users_test = df_test[Columns.User].unique()\n",
    "\n",
    "        model.fit(train_df)\n",
    "\n",
    "        recommendations = model.recommend(users=users_test, N=k_recs)\n",
    "\n",
    "        results = calc_metrics(metrics,\n",
    "                               reco=recs,\n",
    "                               interactions=df_test,\n",
    "                               prev_interactions=train_df,\n",
    "                               catalog=train_df[Columns.Item].unique()\n",
    "                               )\n",
    "        results = pd.DataFrame(results, index=[0])\n",
    "\n",
    "        split_results = pd.concat([split_results, res], ignore_index=True)\n",
    "\n",
    "    split_results['model'] ='PopularModel'\n",
    "    del model \n",
    "    \n",
    "    return split_results.groupby('model').agg([np.mean, np.std])"
   ]
  },
  {
   "cell_type": "code",
   "execution_count": 49,
   "id": "1b371e1b-bf74-45e0-b33e-23bac5e828e0",
   "metadata": {},
   "outputs": [],
   "source": [
    "params = {'days':30,\n",
    "         'item_column':Columns.Item,\n",
    "         'dt_column':Columns.Datetime,\n",
    "         'user_column':Columns.User, \n",
    "         'parallel':True}"
   ]
  },
  {
   "cell_type": "code",
   "execution_count": 50,
   "id": "463e0b50-7c98-422d-ae55-9e63f013c0fd",
   "metadata": {},
   "outputs": [],
   "source": [
    "model = PopularRecommender(**params)"
   ]
  },
  {
   "cell_type": "code",
   "execution_count": 51,
   "id": "b340d514-6ce5-4926-81ac-f813bb59f6ef",
   "metadata": {},
   "outputs": [
    {
     "name": "stderr",
     "output_type": "stream",
     "text": [
      "5it [01:31, 18.21s/it]\n"
     ]
    },
    {
     "data": {
      "text/html": [
       "<div>\n",
       "<style scoped>\n",
       "    .dataframe tbody tr th:only-of-type {\n",
       "        vertical-align: middle;\n",
       "    }\n",
       "\n",
       "    .dataframe tbody tr th {\n",
       "        vertical-align: top;\n",
       "    }\n",
       "\n",
       "    .dataframe thead tr th {\n",
       "        text-align: left;\n",
       "    }\n",
       "\n",
       "    .dataframe thead tr:last-of-type th {\n",
       "        text-align: right;\n",
       "    }\n",
       "</style>\n",
       "<table border=\"1\" class=\"dataframe\">\n",
       "  <thead>\n",
       "    <tr>\n",
       "      <th></th>\n",
       "      <th colspan=\"2\" halign=\"left\">serendipity</th>\n",
       "      <th colspan=\"2\" halign=\"left\">MeanInvUserFreq</th>\n",
       "      <th colspan=\"2\" halign=\"left\">prec@20</th>\n",
       "      <th colspan=\"2\" halign=\"left\">recall</th>\n",
       "    </tr>\n",
       "    <tr>\n",
       "      <th></th>\n",
       "      <th>mean</th>\n",
       "      <th>std</th>\n",
       "      <th>mean</th>\n",
       "      <th>std</th>\n",
       "      <th>mean</th>\n",
       "      <th>std</th>\n",
       "      <th>mean</th>\n",
       "      <th>std</th>\n",
       "    </tr>\n",
       "    <tr>\n",
       "      <th>model</th>\n",
       "      <th></th>\n",
       "      <th></th>\n",
       "      <th></th>\n",
       "      <th></th>\n",
       "      <th></th>\n",
       "      <th></th>\n",
       "      <th></th>\n",
       "      <th></th>\n",
       "    </tr>\n",
       "  </thead>\n",
       "  <tbody>\n",
       "    <tr>\n",
       "      <th>PopularModel</th>\n",
       "      <td>0.000333</td>\n",
       "      <td>0.0</td>\n",
       "      <td>3.664814</td>\n",
       "      <td>0.0</td>\n",
       "      <td>0.053558</td>\n",
       "      <td>0.0</td>\n",
       "      <td>0.074606</td>\n",
       "      <td>0.0</td>\n",
       "    </tr>\n",
       "  </tbody>\n",
       "</table>\n",
       "</div>"
      ],
      "text/plain": [
       "             serendipity      MeanInvUserFreq        prec@20         recall  \\\n",
       "                    mean  std            mean  std      mean  std      mean   \n",
       "model                                                                         \n",
       "PopularModel    0.000333  0.0        3.664814  0.0  0.053558  0.0  0.074606   \n",
       "\n",
       "                   \n",
       "              std  \n",
       "model              \n",
       "PopularModel  0.0  "
      ]
     },
     "execution_count": 51,
     "metadata": {},
     "output_type": "execute_result"
    }
   ],
   "source": [
    "validation_func(interactions=interactions,\n",
    "                cv=cv,\n",
    "                model=model,\n",
    "                k_recs=K_RECOS,\n",
    "                metrics=metrics)"
   ]
  }
 ],
 "metadata": {
  "kernelspec": {
   "display_name": "Python 3 (ipykernel)",
   "language": "python",
   "name": "python3"
  },
  "language_info": {
   "codemirror_mode": {
    "name": "ipython",
    "version": 3
   },
   "file_extension": ".py",
   "mimetype": "text/x-python",
   "name": "python",
   "nbconvert_exporter": "python",
   "pygments_lexer": "ipython3",
   "version": "3.10.13"
  }
 },
 "nbformat": 4,
 "nbformat_minor": 5
}
