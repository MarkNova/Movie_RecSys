{
 "cells": [
  {
   "cell_type": "code",
   "execution_count": 1,
   "id": "487118c0-b9c4-4ca6-956a-63a821f6e797",
   "metadata": {},
   "outputs": [],
   "source": [
    "import pandas as pd\n",
    "from pandarallel import pandarallel\n",
    "import numpy as np\n",
    "from tqdm import tqdm\n",
    "import datetime\n",
    "from time import time\n",
    "\n",
    "from rectools.dataset.interactions import Interactions\n",
    "from rectools.dataset import Dataset\n",
    "from rectools import Columns\n",
    "\n",
    "from implicit.nearest_neighbours import TFIDFRecommender, BM25Recommender\n",
    "\n",
    "from rectools.models import ImplicitItemKNNWrapperModel, RandomModel, PopularModel\n",
    "from rectools.metrics import Precision, Recall, MeanInvUserFreq, Serendipity, calc_metrics\n",
    "from rectools.model_selection.time_split import TimeRangeSplitter"
   ]
  },
  {
   "cell_type": "code",
   "execution_count": 2,
   "id": "0f8ec1d6-7916-42b9-be7a-9437337433a8",
   "metadata": {},
   "outputs": [
    {
     "name": "stdout",
     "output_type": "stream",
     "text": [
      "INFO: Pandarallel will run on 6 workers.\n",
      "INFO: Pandarallel will use Memory file system to transfer data between the main process and workers.\n"
     ]
    }
   ],
   "source": [
    "tqdm.pandas()\n",
    "pandarallel.initialize(progress_bar=False)"
   ]
  },
  {
   "cell_type": "markdown",
   "id": "f18980cc-e7f2-4cb9-88c9-d20fd8d1e9b8",
   "metadata": {},
   "source": [
    "### Загрузка, знакомство, подготовка"
   ]
  },
  {
   "cell_type": "markdown",
   "id": "4b4b67d3-b556-4258-be20-e95f822950ba",
   "metadata": {},
   "source": [
    "**Взаимодействия пользователей с фильмами**"
   ]
  },
  {
   "cell_type": "code",
   "execution_count": 3,
   "id": "a359ea46-e833-495f-9f68-d6955886d56a",
   "metadata": {},
   "outputs": [],
   "source": [
    "data = pd.read_csv('ml-latest/ratings.csv')"
   ]
  },
  {
   "cell_type": "code",
   "execution_count": 4,
   "id": "0c0656a0-c480-4ece-84f3-690984287dfa",
   "metadata": {},
   "outputs": [
    {
     "data": {
      "text/html": [
       "<div>\n",
       "<style scoped>\n",
       "    .dataframe tbody tr th:only-of-type {\n",
       "        vertical-align: middle;\n",
       "    }\n",
       "\n",
       "    .dataframe tbody tr th {\n",
       "        vertical-align: top;\n",
       "    }\n",
       "\n",
       "    .dataframe thead th {\n",
       "        text-align: right;\n",
       "    }\n",
       "</style>\n",
       "<table border=\"1\" class=\"dataframe\">\n",
       "  <thead>\n",
       "    <tr style=\"text-align: right;\">\n",
       "      <th></th>\n",
       "      <th>userId</th>\n",
       "      <th>movieId</th>\n",
       "      <th>rating</th>\n",
       "      <th>timestamp</th>\n",
       "    </tr>\n",
       "  </thead>\n",
       "  <tbody>\n",
       "    <tr>\n",
       "      <th>11415122</th>\n",
       "      <td>112376</td>\n",
       "      <td>8961</td>\n",
       "      <td>3.5</td>\n",
       "      <td>1587783524</td>\n",
       "    </tr>\n",
       "    <tr>\n",
       "      <th>17542436</th>\n",
       "      <td>172255</td>\n",
       "      <td>91529</td>\n",
       "      <td>5.0</td>\n",
       "      <td>1673633902</td>\n",
       "    </tr>\n",
       "    <tr>\n",
       "      <th>30777106</th>\n",
       "      <td>300953</td>\n",
       "      <td>3396</td>\n",
       "      <td>4.0</td>\n",
       "      <td>1445889669</td>\n",
       "    </tr>\n",
       "    <tr>\n",
       "      <th>21529542</th>\n",
       "      <td>210078</td>\n",
       "      <td>1268</td>\n",
       "      <td>3.5</td>\n",
       "      <td>1495318063</td>\n",
       "    </tr>\n",
       "    <tr>\n",
       "      <th>9537537</th>\n",
       "      <td>93779</td>\n",
       "      <td>1263</td>\n",
       "      <td>5.0</td>\n",
       "      <td>1551056756</td>\n",
       "    </tr>\n",
       "  </tbody>\n",
       "</table>\n",
       "</div>"
      ],
      "text/plain": [
       "          userId  movieId  rating   timestamp\n",
       "11415122  112376     8961     3.5  1587783524\n",
       "17542436  172255    91529     5.0  1673633902\n",
       "30777106  300953     3396     4.0  1445889669\n",
       "21529542  210078     1268     3.5  1495318063\n",
       "9537537    93779     1263     5.0  1551056756"
      ]
     },
     "execution_count": 4,
     "metadata": {},
     "output_type": "execute_result"
    }
   ],
   "source": [
    "data.sample(5)"
   ]
  },
  {
   "cell_type": "code",
   "execution_count": 5,
   "id": "0ced7d74-2da6-427e-8280-cffc2f5bfb0c",
   "metadata": {},
   "outputs": [
    {
     "name": "stdout",
     "output_type": "stream",
     "text": [
      "<class 'pandas.core.frame.DataFrame'>\n",
      "RangeIndex: 33832162 entries, 0 to 33832161\n",
      "Data columns (total 4 columns):\n",
      " #   Column     Dtype  \n",
      "---  ------     -----  \n",
      " 0   userId     int64  \n",
      " 1   movieId    int64  \n",
      " 2   rating     float64\n",
      " 3   timestamp  int64  \n",
      "dtypes: float64(1), int64(3)\n",
      "memory usage: 1.0 GB\n"
     ]
    }
   ],
   "source": [
    "data.info()"
   ]
  },
  {
   "cell_type": "code",
   "execution_count": 6,
   "id": "a2d2a154-1bb0-4002-91e3-0b3ccfd4eade",
   "metadata": {},
   "outputs": [
    {
     "name": "stdout",
     "output_type": "stream",
     "text": [
      "Испльзовано памяти: 1032.48mb\n"
     ]
    }
   ],
   "source": [
    "print(\n",
    "    f'Испльзовано памяти: {data.memory_usage(deep=True).sum() / 1024 / 1024:.2f}mb'\n",
    ")"
   ]
  },
  {
   "cell_type": "code",
   "execution_count": 7,
   "id": "3da7c12f-2a92-4006-a819-135efb748a0b",
   "metadata": {},
   "outputs": [],
   "source": [
    "#оптимизация хранения данных\n",
    "data['userId'] = data['userId'].astype('int32')\n",
    "data['movieId'] = data['movieId'].astype('int32')\n",
    "data['rating'] = data['rating'].astype('float16')\n",
    "#изменение хранения дат\n",
    "data['timestamp'] = pd.to_datetime(data['timestamp'].parallel_apply(\n",
    "    lambda x: pd.Timestamp(x, unit='s').date()))"
   ]
  },
  {
   "cell_type": "code",
   "execution_count": 8,
   "id": "75130669-1183-49d6-a5ce-bf498b22c5bf",
   "metadata": {},
   "outputs": [
    {
     "name": "stdout",
     "output_type": "stream",
     "text": [
      "Испльзовано памяти: 580.77mb\n"
     ]
    }
   ],
   "source": [
    "print(\n",
    "    f'Испльзовано памяти: {data.memory_usage(deep=True).sum() / 1024 / 1024:.2f}mb'\n",
    ")"
   ]
  },
  {
   "cell_type": "markdown",
   "id": "9f0760e1-0df7-42df-9d6a-7bf58c408d80",
   "metadata": {},
   "source": [
    "**Названия фильмов и imbdID**"
   ]
  },
  {
   "cell_type": "code",
   "execution_count": 9,
   "id": "8264d477-6f78-403c-99f8-927fb64e4239",
   "metadata": {},
   "outputs": [],
   "source": [
    "movies_ml = pd.read_csv('ml-latest/movies.csv')"
   ]
  },
  {
   "cell_type": "code",
   "execution_count": 10,
   "id": "0d276c54-458d-4de7-836b-2033c6e0ac85",
   "metadata": {
    "scrolled": true
   },
   "outputs": [
    {
     "data": {
      "text/html": [
       "<div>\n",
       "<style scoped>\n",
       "    .dataframe tbody tr th:only-of-type {\n",
       "        vertical-align: middle;\n",
       "    }\n",
       "\n",
       "    .dataframe tbody tr th {\n",
       "        vertical-align: top;\n",
       "    }\n",
       "\n",
       "    .dataframe thead th {\n",
       "        text-align: right;\n",
       "    }\n",
       "</style>\n",
       "<table border=\"1\" class=\"dataframe\">\n",
       "  <thead>\n",
       "    <tr style=\"text-align: right;\">\n",
       "      <th></th>\n",
       "      <th>movieId</th>\n",
       "      <th>title</th>\n",
       "      <th>genres</th>\n",
       "    </tr>\n",
       "  </thead>\n",
       "  <tbody>\n",
       "    <tr>\n",
       "      <th>72644</th>\n",
       "      <td>235033</td>\n",
       "      <td>Silver Jew (2007)</td>\n",
       "      <td>Documentary</td>\n",
       "    </tr>\n",
       "    <tr>\n",
       "      <th>34846</th>\n",
       "      <td>145716</td>\n",
       "      <td>Patrick Still Lives! (1980)</td>\n",
       "      <td>Horror</td>\n",
       "    </tr>\n",
       "    <tr>\n",
       "      <th>3004</th>\n",
       "      <td>3097</td>\n",
       "      <td>Shop Around the Corner, The (1940)</td>\n",
       "      <td>Comedy|Drama|Romance</td>\n",
       "    </tr>\n",
       "    <tr>\n",
       "      <th>70707</th>\n",
       "      <td>227258</td>\n",
       "      <td>The Midnight Sky (2020)</td>\n",
       "      <td>Drama|Fantasy|Sci-Fi</td>\n",
       "    </tr>\n",
       "    <tr>\n",
       "      <th>47603</th>\n",
       "      <td>173661</td>\n",
       "      <td>The Cook (1965)</td>\n",
       "      <td>Comedy|Romance</td>\n",
       "    </tr>\n",
       "  </tbody>\n",
       "</table>\n",
       "</div>"
      ],
      "text/plain": [
       "       movieId                               title                genres\n",
       "72644   235033                   Silver Jew (2007)           Documentary\n",
       "34846   145716         Patrick Still Lives! (1980)                Horror\n",
       "3004      3097  Shop Around the Corner, The (1940)  Comedy|Drama|Romance\n",
       "70707   227258             The Midnight Sky (2020)  Drama|Fantasy|Sci-Fi\n",
       "47603   173661                     The Cook (1965)        Comedy|Romance"
      ]
     },
     "execution_count": 10,
     "metadata": {},
     "output_type": "execute_result"
    }
   ],
   "source": [
    "movies_ml.sample(5)"
   ]
  },
  {
   "cell_type": "code",
   "execution_count": 11,
   "id": "f38c0eaa-c41a-41ee-ae2b-74cc11c74a2e",
   "metadata": {},
   "outputs": [],
   "source": [
    "links_ml = pd.read_csv('ml-latest/links.csv')"
   ]
  },
  {
   "cell_type": "code",
   "execution_count": 12,
   "id": "5ecb5fd6-c825-47c5-9af4-f8d5d7fff957",
   "metadata": {},
   "outputs": [
    {
     "data": {
      "text/html": [
       "<div>\n",
       "<style scoped>\n",
       "    .dataframe tbody tr th:only-of-type {\n",
       "        vertical-align: middle;\n",
       "    }\n",
       "\n",
       "    .dataframe tbody tr th {\n",
       "        vertical-align: top;\n",
       "    }\n",
       "\n",
       "    .dataframe thead th {\n",
       "        text-align: right;\n",
       "    }\n",
       "</style>\n",
       "<table border=\"1\" class=\"dataframe\">\n",
       "  <thead>\n",
       "    <tr style=\"text-align: right;\">\n",
       "      <th></th>\n",
       "      <th>movieId</th>\n",
       "      <th>imdbId</th>\n",
       "      <th>tmdbId</th>\n",
       "    </tr>\n",
       "  </thead>\n",
       "  <tbody>\n",
       "    <tr>\n",
       "      <th>11331</th>\n",
       "      <td>50585</td>\n",
       "      <td>31516</td>\n",
       "      <td>78318.0</td>\n",
       "    </tr>\n",
       "    <tr>\n",
       "      <th>23992</th>\n",
       "      <td>120122</td>\n",
       "      <td>2965842</td>\n",
       "      <td>293491.0</td>\n",
       "    </tr>\n",
       "    <tr>\n",
       "      <th>9651</th>\n",
       "      <td>31963</td>\n",
       "      <td>65651</td>\n",
       "      <td>258.0</td>\n",
       "    </tr>\n",
       "    <tr>\n",
       "      <th>27800</th>\n",
       "      <td>129907</td>\n",
       "      <td>1671457</td>\n",
       "      <td>76226.0</td>\n",
       "    </tr>\n",
       "    <tr>\n",
       "      <th>4878</th>\n",
       "      <td>4983</td>\n",
       "      <td>89283</td>\n",
       "      <td>35201.0</td>\n",
       "    </tr>\n",
       "  </tbody>\n",
       "</table>\n",
       "</div>"
      ],
      "text/plain": [
       "       movieId   imdbId    tmdbId\n",
       "11331    50585    31516   78318.0\n",
       "23992   120122  2965842  293491.0\n",
       "9651     31963    65651     258.0\n",
       "27800   129907  1671457   76226.0\n",
       "4878      4983    89283   35201.0"
      ]
     },
     "execution_count": 12,
     "metadata": {},
     "output_type": "execute_result"
    }
   ],
   "source": [
    "links_ml.sample(5)"
   ]
  },
  {
   "cell_type": "markdown",
   "id": "bc938324-d775-420d-98f6-ac570f970976",
   "metadata": {},
   "source": [
    "## Постановка задачи и baseline"
   ]
  },
  {
   "cell_type": "markdown",
   "id": "99cd982b-26c3-46fe-ad46-70d7b8e828f5",
   "metadata": {},
   "source": [
    "Используя историю взаимодействий пользователей с объектами создать двухэтапную рекомендательную модель, которая значительно превзойдёт базовую по совокупности метрик Serendipity и MeanInvUserFreq (способность удивлять непопулярными релевантными объектами) на валидации, а также удовлетворит меня в ходе тестирования (выборочный визуальный анализ).\n",
    "\n",
    "Валидировать будем на данных за последние 42 дня, разбив их на 3 фолда по 14 дней. Реализовывать кросс-валидацию будем средствами библиотеки RecTools (https://github.com/MobileTeleSystems/RecTools). \n",
    "\n",
    "Отслеживаемые метрики:\n",
    "\n",
    "`Recall` - отношение числа релевантных рекомендаций к общему числу взаимодействий пользователя в тестовом периоде.\n",
    "\n",
    "`Map@20` - средняя точность рекоммендаций с учётом рангов (https://rectools.readthedocs.io/en/latest/api/rectools.metrics.ranking.MAP.html).\n",
    "\n",
    "`MeanInvUserFreq` - может принимать значения в диапазоне от 0 до бесконечности. Значение 0 означает, что все рекомендации уникальны для каждого пользователя, тогда как бесконечность указывает на полное отсутствие уникальности и повторяющиеся рекомендации у всех пользователей (https://rectools.readthedocs.io/en/latest/api/rectools.metrics.novelty.MeanInvUserFreq.html).\n",
    "\n",
    "`Serendipity` - принимает значения от 0 до 1, чаще всего интерпретируется как способность удивлять неожиданными (непопулярными) релевантными айтемами (https://rectools.readthedocs.io/en/latest/api/rectools.metrics.serendipity.Serendipity.html).\n"
   ]
  },
  {
   "cell_type": "code",
   "execution_count": 13,
   "id": "930082f5-f422-43f5-9f42-eb5ccfa263ae",
   "metadata": {},
   "outputs": [
    {
     "data": {
      "text/html": [
       "<div>\n",
       "<style scoped>\n",
       "    .dataframe tbody tr th:only-of-type {\n",
       "        vertical-align: middle;\n",
       "    }\n",
       "\n",
       "    .dataframe tbody tr th {\n",
       "        vertical-align: top;\n",
       "    }\n",
       "\n",
       "    .dataframe thead th {\n",
       "        text-align: right;\n",
       "    }\n",
       "</style>\n",
       "<table border=\"1\" class=\"dataframe\">\n",
       "  <thead>\n",
       "    <tr style=\"text-align: right;\">\n",
       "      <th></th>\n",
       "      <th>user_id</th>\n",
       "      <th>item_id</th>\n",
       "      <th>weight</th>\n",
       "      <th>datetime</th>\n",
       "    </tr>\n",
       "  </thead>\n",
       "  <tbody>\n",
       "    <tr>\n",
       "      <th>19460444</th>\n",
       "      <td>190394</td>\n",
       "      <td>589</td>\n",
       "      <td>4.0</td>\n",
       "      <td>1996-05-30</td>\n",
       "    </tr>\n",
       "    <tr>\n",
       "      <th>20140984</th>\n",
       "      <td>196817</td>\n",
       "      <td>203224</td>\n",
       "      <td>4.5</td>\n",
       "      <td>2020-01-31</td>\n",
       "    </tr>\n",
       "  </tbody>\n",
       "</table>\n",
       "</div>"
      ],
      "text/plain": [
       "          user_id  item_id  weight   datetime\n",
       "19460444   190394      589     4.0 1996-05-30\n",
       "20140984   196817   203224     4.5 2020-01-31"
      ]
     },
     "execution_count": 13,
     "metadata": {},
     "output_type": "execute_result"
    }
   ],
   "source": [
    "# Для более эффективного использования сохраним данные о взаимодействиях в классе Interactions\n",
    "data.columns = [Columns.User, Columns.Item, Columns.Weight, Columns.Datetime]\n",
    "interactions = Interactions(data)\n",
    "interactions.df.sample(2)"
   ]
  },
  {
   "cell_type": "markdown",
   "id": "295a7a13-5993-46a9-b074-fa2d8d541918",
   "metadata": {},
   "source": [
    "**Перекрёстная валидация**\n",
    "\n",
    "Мы будем использовать последние 3 периода по 14 дней. "
   ]
  },
  {
   "cell_type": "code",
   "execution_count": 14,
   "id": "12f8909e-a361-46ef-8b38-5b399a8e78a5",
   "metadata": {
    "scrolled": true
   },
   "outputs": [
    {
     "data": {
      "text/plain": [
       "[(Timestamp('2023-06-09 00:00:00', freq='14D'),\n",
       "  Timestamp('2023-06-23 00:00:00', freq='14D')),\n",
       " (Timestamp('2023-06-23 00:00:00', freq='14D'),\n",
       "  Timestamp('2023-07-07 00:00:00', freq='14D')),\n",
       " (Timestamp('2023-07-07 00:00:00', freq='14D'),\n",
       "  Timestamp('2023-07-21 00:00:00', freq='14D'))]"
      ]
     },
     "execution_count": 14,
     "metadata": {},
     "output_type": "execute_result"
    }
   ],
   "source": [
    "n_splits = 3\n",
    "cv = TimeRangeSplitter(test_size='14D',\n",
    "                       n_splits=n_splits,\n",
    "                       filter_cold_users=False,\n",
    "                       filter_cold_items=True)\n",
    "cv.get_test_fold_borders(interactions)"
   ]
  },
  {
   "cell_type": "markdown",
   "id": "e43a49f9-3411-4f63-bd12-5a4833bc8cab",
   "metadata": {},
   "source": [
    "**Метрики**"
   ]
  },
  {
   "cell_type": "code",
   "execution_count": 15,
   "id": "2bccbaa8-6fc8-4f36-9a60-e91864055d87",
   "metadata": {},
   "outputs": [],
   "source": [
    "K_RECOS = 20\n",
    "metrics = {\n",
    "    \"serendipity\": Serendipity(k=K_RECOS),\n",
    "    \"MeanInvUserFreq\": MeanInvUserFreq(k=K_RECOS),\n",
    "    \"prec@20\": Precision(k=K_RECOS),\n",
    "    \"recall\": Recall(k=K_RECOS)\n",
    "}"
   ]
  },
  {
   "cell_type": "markdown",
   "id": "8b0b82d2-e603-4e46-91a6-81fd6cb48930",
   "metadata": {},
   "source": [
    "**Бейзлайн (рекомендуем популярное)**\n",
    "\n",
    "`PopularRecommender` будет рекомендовать 20 самых популярных фильмов за последние 60 дней:"
   ]
  },
  {
   "cell_type": "code",
   "execution_count": 16,
   "id": "e25b31fb-d101-4407-847f-879ac3bd80b0",
   "metadata": {},
   "outputs": [
    {
     "name": "stdout",
     "output_type": "stream",
     "text": [
      "INFO: Pandarallel will run on 6 workers.\n",
      "INFO: Pandarallel will use Memory file system to transfer data between the main process and workers.\n"
     ]
    }
   ],
   "source": [
    "import mymodule "
   ]
  },
  {
   "cell_type": "code",
   "execution_count": 17,
   "id": "1b371e1b-bf74-45e0-b33e-23bac5e828e0",
   "metadata": {},
   "outputs": [],
   "source": [
    "params = {\n",
    "    'days': 60,\n",
    "    'item_column': Columns.Item,\n",
    "    'dt_column': Columns.Datetime,\n",
    "    'user_column': Columns.User,\n",
    "    'parallel': True\n",
    "}"
   ]
  },
  {
   "cell_type": "code",
   "execution_count": 18,
   "id": "463e0b50-7c98-422d-ae55-9e63f013c0fd",
   "metadata": {},
   "outputs": [],
   "source": [
    "model = mymodule.PopularRecommender(**params)"
   ]
  },
  {
   "cell_type": "code",
   "execution_count": 25,
   "id": "df1f5bc1-0c53-46c0-a2a8-ecc90bb04e66",
   "metadata": {},
   "outputs": [
    {
     "data": {
      "text/plain": [
       "20"
      ]
     },
     "execution_count": 25,
     "metadata": {},
     "output_type": "execute_result"
    }
   ],
   "source": [
    "K_RECOS"
   ]
  },
  {
   "cell_type": "code",
   "execution_count": 19,
   "id": "e96207e2-dc60-44e5-99de-951d081f2672",
   "metadata": {},
   "outputs": [
    {
     "name": "stderr",
     "output_type": "stream",
     "text": [
      "3it [01:12, 24.04s/it]\n"
     ]
    }
   ],
   "source": [
    "results_df = mymodule.validation_function(interactions=interactions,\n",
    "                                            cv=cv,\n",
    "                                            model=model,\n",
    "                                            k_recs=K_RECOS,\n",
    "                                            metrics=metrics,\n",
    "                                            model_name='PopularModel')"
   ]
  },
  {
   "cell_type": "code",
   "execution_count": 20,
   "id": "c78edefb-0f84-46bd-8926-59076fd6733c",
   "metadata": {},
   "outputs": [
    {
     "data": {
      "text/html": [
       "<div>\n",
       "<style scoped>\n",
       "    .dataframe tbody tr th:only-of-type {\n",
       "        vertical-align: middle;\n",
       "    }\n",
       "\n",
       "    .dataframe tbody tr th {\n",
       "        vertical-align: top;\n",
       "    }\n",
       "\n",
       "    .dataframe thead tr th {\n",
       "        text-align: left;\n",
       "    }\n",
       "\n",
       "    .dataframe thead tr:last-of-type th {\n",
       "        text-align: right;\n",
       "    }\n",
       "</style>\n",
       "<table border=\"1\" class=\"dataframe\">\n",
       "  <thead>\n",
       "    <tr>\n",
       "      <th></th>\n",
       "      <th colspan=\"2\" halign=\"left\">serendipity</th>\n",
       "      <th colspan=\"2\" halign=\"left\">MeanInvUserFreq</th>\n",
       "      <th colspan=\"2\" halign=\"left\">prec@20</th>\n",
       "      <th colspan=\"2\" halign=\"left\">recall</th>\n",
       "    </tr>\n",
       "    <tr>\n",
       "      <th></th>\n",
       "      <th>mean</th>\n",
       "      <th>std</th>\n",
       "      <th>mean</th>\n",
       "      <th>std</th>\n",
       "      <th>mean</th>\n",
       "      <th>std</th>\n",
       "      <th>mean</th>\n",
       "      <th>std</th>\n",
       "    </tr>\n",
       "    <tr>\n",
       "      <th>model</th>\n",
       "      <th></th>\n",
       "      <th></th>\n",
       "      <th></th>\n",
       "      <th></th>\n",
       "      <th></th>\n",
       "      <th></th>\n",
       "      <th></th>\n",
       "      <th></th>\n",
       "    </tr>\n",
       "  </thead>\n",
       "  <tbody>\n",
       "    <tr>\n",
       "      <th>PopularModel</th>\n",
       "      <td>0.000379</td>\n",
       "      <td>0.000055</td>\n",
       "      <td>3.637503</td>\n",
       "      <td>0.095908</td>\n",
       "      <td>0.055289</td>\n",
       "      <td>0.003696</td>\n",
       "      <td>0.076113</td>\n",
       "      <td>0.004111</td>\n",
       "    </tr>\n",
       "  </tbody>\n",
       "</table>\n",
       "</div>"
      ],
      "text/plain": [
       "             serendipity           MeanInvUserFreq             prec@20  \\\n",
       "                    mean       std            mean       std      mean   \n",
       "model                                                                    \n",
       "PopularModel    0.000379  0.000055        3.637503  0.095908  0.055289   \n",
       "\n",
       "                          recall            \n",
       "                   std      mean       std  \n",
       "model                                       \n",
       "PopularModel  0.003696  0.076113  0.004111  "
      ]
     },
     "execution_count": 20,
     "metadata": {},
     "output_type": "execute_result"
    }
   ],
   "source": [
    "results_df"
   ]
  },
  {
   "cell_type": "code",
   "execution_count": 24,
   "id": "0f35fcbd-d4a9-4230-a8d0-f5a13a1adaa7",
   "metadata": {},
   "outputs": [
    {
     "data": {
      "text/html": [
       "<div>\n",
       "<style scoped>\n",
       "    .dataframe tbody tr th:only-of-type {\n",
       "        vertical-align: middle;\n",
       "    }\n",
       "\n",
       "    .dataframe tbody tr th {\n",
       "        vertical-align: top;\n",
       "    }\n",
       "\n",
       "    .dataframe thead th {\n",
       "        text-align: right;\n",
       "    }\n",
       "</style>\n",
       "<table border=\"1\" class=\"dataframe\">\n",
       "  <thead>\n",
       "    <tr style=\"text-align: right;\">\n",
       "      <th></th>\n",
       "      <th>movieId</th>\n",
       "      <th>title</th>\n",
       "      <th>genres</th>\n",
       "    </tr>\n",
       "  </thead>\n",
       "  <tbody>\n",
       "    <tr>\n",
       "      <th>314</th>\n",
       "      <td>318</td>\n",
       "      <td>Shawshank Redemption, The (1994)</td>\n",
       "      <td>Crime|Drama</td>\n",
       "    </tr>\n",
       "    <tr>\n",
       "      <th>2480</th>\n",
       "      <td>2571</td>\n",
       "      <td>Matrix, The (1999)</td>\n",
       "      <td>Action|Sci-Fi|Thriller</td>\n",
       "    </tr>\n",
       "    <tr>\n",
       "      <th>2867</th>\n",
       "      <td>2959</td>\n",
       "      <td>Fight Club (1999)</td>\n",
       "      <td>Action|Crime|Drama|Thriller</td>\n",
       "    </tr>\n",
       "    <tr>\n",
       "      <th>4888</th>\n",
       "      <td>4993</td>\n",
       "      <td>Lord of the Rings: The Fellowship of the Ring,...</td>\n",
       "      <td>Adventure|Fantasy</td>\n",
       "    </tr>\n",
       "    <tr>\n",
       "      <th>7029</th>\n",
       "      <td>7153</td>\n",
       "      <td>Lord of the Rings: The Return of the King, The...</td>\n",
       "      <td>Action|Adventure|Drama|Fantasy</td>\n",
       "    </tr>\n",
       "    <tr>\n",
       "      <th>12223</th>\n",
       "      <td>58559</td>\n",
       "      <td>Dark Knight, The (2008)</td>\n",
       "      <td>Action|Crime|Drama|IMAX</td>\n",
       "    </tr>\n",
       "    <tr>\n",
       "      <th>14939</th>\n",
       "      <td>79132</td>\n",
       "      <td>Inception (2010)</td>\n",
       "      <td>Action|Crime|Drama|Mystery|Sci-Fi|Thriller|IMAX</td>\n",
       "    </tr>\n",
       "    <tr>\n",
       "      <th>21212</th>\n",
       "      <td>109487</td>\n",
       "      <td>Interstellar (2014)</td>\n",
       "      <td>Sci-Fi|IMAX</td>\n",
       "    </tr>\n",
       "    <tr>\n",
       "      <th>57778</th>\n",
       "      <td>195159</td>\n",
       "      <td>Spider-Man: Into the Spider-Verse (2018)</td>\n",
       "      <td>Action|Adventure|Animation|Sci-Fi</td>\n",
       "    </tr>\n",
       "    <tr>\n",
       "      <th>85911</th>\n",
       "      <td>286897</td>\n",
       "      <td>Spider-Man: Across the Spider-Verse (2023)</td>\n",
       "      <td>Action|Adventure|Animation|Sci-Fi</td>\n",
       "    </tr>\n",
       "  </tbody>\n",
       "</table>\n",
       "</div>"
      ],
      "text/plain": [
       "       movieId                                              title  \\\n",
       "314        318                   Shawshank Redemption, The (1994)   \n",
       "2480      2571                                 Matrix, The (1999)   \n",
       "2867      2959                                  Fight Club (1999)   \n",
       "4888      4993  Lord of the Rings: The Fellowship of the Ring,...   \n",
       "7029      7153  Lord of the Rings: The Return of the King, The...   \n",
       "12223    58559                            Dark Knight, The (2008)   \n",
       "14939    79132                                   Inception (2010)   \n",
       "21212   109487                                Interstellar (2014)   \n",
       "57778   195159           Spider-Man: Into the Spider-Verse (2018)   \n",
       "85911   286897         Spider-Man: Across the Spider-Verse (2023)   \n",
       "\n",
       "                                                genres  \n",
       "314                                        Crime|Drama  \n",
       "2480                            Action|Sci-Fi|Thriller  \n",
       "2867                       Action|Crime|Drama|Thriller  \n",
       "4888                                 Adventure|Fantasy  \n",
       "7029                    Action|Adventure|Drama|Fantasy  \n",
       "12223                          Action|Crime|Drama|IMAX  \n",
       "14939  Action|Crime|Drama|Mystery|Sci-Fi|Thriller|IMAX  \n",
       "21212                                      Sci-Fi|IMAX  \n",
       "57778                Action|Adventure|Animation|Sci-Fi  \n",
       "85911                Action|Adventure|Animation|Sci-Fi  "
      ]
     },
     "execution_count": 24,
     "metadata": {},
     "output_type": "execute_result"
    }
   ],
   "source": [
    "movies_ml[movies_ml['movieId'].isin(model.recommend())]"
   ]
  }
 ],
 "metadata": {
  "kernelspec": {
   "display_name": "Python 3 (ipykernel)",
   "language": "python",
   "name": "python3"
  },
  "language_info": {
   "codemirror_mode": {
    "name": "ipython",
    "version": 3
   },
   "file_extension": ".py",
   "mimetype": "text/x-python",
   "name": "python",
   "nbconvert_exporter": "python",
   "pygments_lexer": "ipython3",
   "version": "3.10.13"
  },
  "varInspector": {
   "cols": {
    "lenName": 16,
    "lenType": 16,
    "lenVar": 40
   },
   "kernels_config": {
    "python": {
     "delete_cmd_postfix": "",
     "delete_cmd_prefix": "del ",
     "library": "var_list.py",
     "varRefreshCmd": "print(var_dic_list())"
    },
    "r": {
     "delete_cmd_postfix": ") ",
     "delete_cmd_prefix": "rm(",
     "library": "var_list.r",
     "varRefreshCmd": "cat(var_dic_list()) "
    }
   },
   "position": {
    "height": "233.844px",
    "left": "768px",
    "right": "20px",
    "top": "120px",
    "width": "362px"
   },
   "types_to_exclude": [
    "module",
    "function",
    "builtin_function_or_method",
    "instance",
    "_Feature"
   ],
   "window_display": true
  }
 },
 "nbformat": 4,
 "nbformat_minor": 5
}
