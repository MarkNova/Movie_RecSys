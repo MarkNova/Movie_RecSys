{
 "cells": [
  {
   "cell_type": "code",
   "execution_count": 17,
   "id": "487118c0-b9c4-4ca6-956a-63a821f6e797",
   "metadata": {},
   "outputs": [],
   "source": [
    "from rectools.dataset import Dataset\n",
    "from rectools import Columns"
   ]
  },
  {
   "cell_type": "code",
   "execution_count": 1,
   "id": "a61b36e5-8c76-422c-898e-345dbf66eae8",
   "metadata": {},
   "outputs": [],
   "source": [
    "import pandas as pd\n",
    "from tqdm import tqdm"
   ]
  },
  {
   "cell_type": "code",
   "execution_count": 2,
   "id": "0f8ec1d6-7916-42b9-be7a-9437337433a8",
   "metadata": {},
   "outputs": [],
   "source": [
    "tqdm.pandas()"
   ]
  },
  {
   "cell_type": "code",
   "execution_count": 3,
   "id": "bf9c27a6-7a6f-423d-baed-e1d574996a03",
   "metadata": {},
   "outputs": [
    {
     "name": "stdout",
     "output_type": "stream",
     "text": [
      "итого 1,5G\n",
      "drwxrwxr-x. 1 micoff micoff  160 ноя  8 17:02 .\n",
      "drwxr-xr-x. 1 micoff micoff  156 ноя  8 23:18 ..\n",
      "-rw-rw-r--. 1 micoff micoff 498M июл 20 22:44 genome-scores.csv\n",
      "-rw-rw-r--. 1 micoff micoff  18K июл 20 22:44 genome-tags.csv\n",
      "-rw-rw-r--. 1 micoff micoff 1,9M июл 20 22:59 links.csv\n",
      "-rw-rw-r--. 1 micoff micoff 4,0M июл 20 22:52 movies.csv\n",
      "-rw-rw-r--. 1 micoff micoff 891M июл 20 22:14 ratings.csv\n",
      "-rw-rw-r--. 1 micoff micoff 9,7K июл 20 23:01 README.txt\n",
      "-rw-rw-r--. 1 micoff micoff  82M июл 20 22:39 tags.csv\n"
     ]
    }
   ],
   "source": [
    "!ls -lah ml-latest"
   ]
  },
  {
   "cell_type": "markdown",
   "id": "f18980cc-e7f2-4cb9-88c9-d20fd8d1e9b8",
   "metadata": {},
   "source": [
    "### Загрузка, знакомство, подготовка"
   ]
  },
  {
   "cell_type": "markdown",
   "id": "4b4b67d3-b556-4258-be20-e95f822950ba",
   "metadata": {},
   "source": [
    "**Взаимодействия пользователей с фильмами**"
   ]
  },
  {
   "cell_type": "code",
   "execution_count": 42,
   "id": "a359ea46-e833-495f-9f68-d6955886d56a",
   "metadata": {},
   "outputs": [],
   "source": [
    "data = pd.read_csv('ml-latest/ratings.csv')"
   ]
  },
  {
   "cell_type": "code",
   "execution_count": 43,
   "id": "0c0656a0-c480-4ece-84f3-690984287dfa",
   "metadata": {},
   "outputs": [
    {
     "data": {
      "text/html": [
       "<div>\n",
       "<style scoped>\n",
       "    .dataframe tbody tr th:only-of-type {\n",
       "        vertical-align: middle;\n",
       "    }\n",
       "\n",
       "    .dataframe tbody tr th {\n",
       "        vertical-align: top;\n",
       "    }\n",
       "\n",
       "    .dataframe thead th {\n",
       "        text-align: right;\n",
       "    }\n",
       "</style>\n",
       "<table border=\"1\" class=\"dataframe\">\n",
       "  <thead>\n",
       "    <tr style=\"text-align: right;\">\n",
       "      <th></th>\n",
       "      <th>userId</th>\n",
       "      <th>movieId</th>\n",
       "      <th>rating</th>\n",
       "      <th>timestamp</th>\n",
       "    </tr>\n",
       "  </thead>\n",
       "  <tbody>\n",
       "    <tr>\n",
       "      <th>14246715</th>\n",
       "      <td>139919</td>\n",
       "      <td>90522</td>\n",
       "      <td>0.5</td>\n",
       "      <td>1434781713</td>\n",
       "    </tr>\n",
       "    <tr>\n",
       "      <th>24931531</th>\n",
       "      <td>243002</td>\n",
       "      <td>6743</td>\n",
       "      <td>4.0</td>\n",
       "      <td>1143406226</td>\n",
       "    </tr>\n",
       "    <tr>\n",
       "      <th>4469634</th>\n",
       "      <td>43628</td>\n",
       "      <td>5388</td>\n",
       "      <td>4.0</td>\n",
       "      <td>1598974977</td>\n",
       "    </tr>\n",
       "    <tr>\n",
       "      <th>20506809</th>\n",
       "      <td>200130</td>\n",
       "      <td>586</td>\n",
       "      <td>3.0</td>\n",
       "      <td>977931874</td>\n",
       "    </tr>\n",
       "    <tr>\n",
       "      <th>30101401</th>\n",
       "      <td>294212</td>\n",
       "      <td>586</td>\n",
       "      <td>3.0</td>\n",
       "      <td>1466825075</td>\n",
       "    </tr>\n",
       "  </tbody>\n",
       "</table>\n",
       "</div>"
      ],
      "text/plain": [
       "          userId  movieId  rating   timestamp\n",
       "14246715  139919    90522     0.5  1434781713\n",
       "24931531  243002     6743     4.0  1143406226\n",
       "4469634    43628     5388     4.0  1598974977\n",
       "20506809  200130      586     3.0   977931874\n",
       "30101401  294212      586     3.0  1466825075"
      ]
     },
     "execution_count": 43,
     "metadata": {},
     "output_type": "execute_result"
    }
   ],
   "source": [
    "data.sample(5)"
   ]
  },
  {
   "cell_type": "code",
   "execution_count": 44,
   "id": "0ced7d74-2da6-427e-8280-cffc2f5bfb0c",
   "metadata": {},
   "outputs": [
    {
     "name": "stdout",
     "output_type": "stream",
     "text": [
      "<class 'pandas.core.frame.DataFrame'>\n",
      "RangeIndex: 33832162 entries, 0 to 33832161\n",
      "Data columns (total 4 columns):\n",
      " #   Column     Dtype  \n",
      "---  ------     -----  \n",
      " 0   userId     int64  \n",
      " 1   movieId    int64  \n",
      " 2   rating     float64\n",
      " 3   timestamp  int64  \n",
      "dtypes: float64(1), int64(3)\n",
      "memory usage: 1.0 GB\n"
     ]
    }
   ],
   "source": [
    "data.info()"
   ]
  },
  {
   "cell_type": "code",
   "execution_count": 7,
   "id": "a2d2a154-1bb0-4002-91e3-0b3ccfd4eade",
   "metadata": {},
   "outputs": [
    {
     "name": "stdout",
     "output_type": "stream",
     "text": [
      "Испльзовано памяти: 1032.48mb\n"
     ]
    }
   ],
   "source": [
    "print(f'Испльзовано памяти: {data.memory_usage(deep=True).sum() / 1024 / 1024:.2f}mb')"
   ]
  },
  {
   "cell_type": "code",
   "execution_count": 45,
   "id": "3da7c12f-2a92-4006-a819-135efb748a0b",
   "metadata": {},
   "outputs": [
    {
     "name": "stderr",
     "output_type": "stream",
     "text": [
      "100%|████████████████████████████| 33832162/33832162 [00:57<00:00, 584670.54it/s]\n"
     ]
    }
   ],
   "source": [
    "#оптимизация хранения данных\n",
    "data['userId'] = data['userId'].astype('int32')\n",
    "data['movieId'] = data['movieId'].astype('int32')\n",
    "data['rating'] = data['rating'].astype('float16')\n",
    "#изменение хранения дат \n",
    "data['timestamp'] = pd.to_datetime(data['timestamp'].progress_apply(lambda x: pd.Timestamp(x, unit='s').date()))"
   ]
  },
  {
   "cell_type": "code",
   "execution_count": 46,
   "id": "654d9e70-5f6b-4071-aebb-b70914dd299b",
   "metadata": {},
   "outputs": [
    {
     "name": "stdout",
     "output_type": "stream",
     "text": [
      "<class 'pandas.core.frame.DataFrame'>\n",
      "RangeIndex: 33832162 entries, 0 to 33832161\n",
      "Data columns (total 4 columns):\n",
      " #   Column     Dtype         \n",
      "---  ------     -----         \n",
      " 0   userId     int32         \n",
      " 1   movieId    int32         \n",
      " 2   rating     float16       \n",
      " 3   timestamp  datetime64[ns]\n",
      "dtypes: datetime64[ns](1), float16(1), int32(2)\n",
      "memory usage: 580.8 MB\n"
     ]
    }
   ],
   "source": [
    "data.info()"
   ]
  },
  {
   "cell_type": "code",
   "execution_count": 47,
   "id": "75130669-1183-49d6-a5ce-bf498b22c5bf",
   "metadata": {},
   "outputs": [
    {
     "name": "stdout",
     "output_type": "stream",
     "text": [
      "Испльзовано памяти: 580.77mb\n"
     ]
    }
   ],
   "source": [
    "print(f'Испльзовано памяти: {data.memory_usage(deep=True).sum() / 1024 / 1024:.2f}mb')"
   ]
  },
  {
   "cell_type": "markdown",
   "id": "9f0760e1-0df7-42df-9d6a-7bf58c408d80",
   "metadata": {},
   "source": [
    "**Названия фильмов и imbdID**"
   ]
  },
  {
   "cell_type": "code",
   "execution_count": 11,
   "id": "8264d477-6f78-403c-99f8-927fb64e4239",
   "metadata": {},
   "outputs": [],
   "source": [
    "movies_ml = pd.read_csv('ml-latest/movies.csv')"
   ]
  },
  {
   "cell_type": "code",
   "execution_count": 12,
   "id": "0d276c54-458d-4de7-836b-2033c6e0ac85",
   "metadata": {
    "scrolled": true
   },
   "outputs": [
    {
     "data": {
      "text/html": [
       "<div>\n",
       "<style scoped>\n",
       "    .dataframe tbody tr th:only-of-type {\n",
       "        vertical-align: middle;\n",
       "    }\n",
       "\n",
       "    .dataframe tbody tr th {\n",
       "        vertical-align: top;\n",
       "    }\n",
       "\n",
       "    .dataframe thead th {\n",
       "        text-align: right;\n",
       "    }\n",
       "</style>\n",
       "<table border=\"1\" class=\"dataframe\">\n",
       "  <thead>\n",
       "    <tr style=\"text-align: right;\">\n",
       "      <th></th>\n",
       "      <th>movieId</th>\n",
       "      <th>title</th>\n",
       "      <th>genres</th>\n",
       "    </tr>\n",
       "  </thead>\n",
       "  <tbody>\n",
       "    <tr>\n",
       "      <th>71030</th>\n",
       "      <td>228383</td>\n",
       "      <td>The Last Exorcist (2020)</td>\n",
       "      <td>Thriller</td>\n",
       "    </tr>\n",
       "    <tr>\n",
       "      <th>15553</th>\n",
       "      <td>81930</td>\n",
       "      <td>Toi et Moi (2006)</td>\n",
       "      <td>Comedy|Drama|Romance</td>\n",
       "    </tr>\n",
       "    <tr>\n",
       "      <th>54980</th>\n",
       "      <td>189129</td>\n",
       "      <td>What We Started (2018)</td>\n",
       "      <td>Documentary</td>\n",
       "    </tr>\n",
       "    <tr>\n",
       "      <th>83699</th>\n",
       "      <td>280198</td>\n",
       "      <td>Shtemp (1991)</td>\n",
       "      <td>Action</td>\n",
       "    </tr>\n",
       "    <tr>\n",
       "      <th>46409</th>\n",
       "      <td>171229</td>\n",
       "      <td>Re-Animated (2006)</td>\n",
       "      <td>Children|Comedy</td>\n",
       "    </tr>\n",
       "  </tbody>\n",
       "</table>\n",
       "</div>"
      ],
      "text/plain": [
       "       movieId                     title                genres\n",
       "71030   228383  The Last Exorcist (2020)              Thriller\n",
       "15553    81930         Toi et Moi (2006)  Comedy|Drama|Romance\n",
       "54980   189129    What We Started (2018)           Documentary\n",
       "83699   280198             Shtemp (1991)                Action\n",
       "46409   171229        Re-Animated (2006)       Children|Comedy"
      ]
     },
     "execution_count": 12,
     "metadata": {},
     "output_type": "execute_result"
    }
   ],
   "source": [
    "movies_ml.sample(5)"
   ]
  },
  {
   "cell_type": "code",
   "execution_count": 13,
   "id": "f38c0eaa-c41a-41ee-ae2b-74cc11c74a2e",
   "metadata": {},
   "outputs": [],
   "source": [
    "links_ml = pd.read_csv('ml-latest/links.csv')"
   ]
  },
  {
   "cell_type": "code",
   "execution_count": 14,
   "id": "5ecb5fd6-c825-47c5-9af4-f8d5d7fff957",
   "metadata": {},
   "outputs": [
    {
     "data": {
      "text/html": [
       "<div>\n",
       "<style scoped>\n",
       "    .dataframe tbody tr th:only-of-type {\n",
       "        vertical-align: middle;\n",
       "    }\n",
       "\n",
       "    .dataframe tbody tr th {\n",
       "        vertical-align: top;\n",
       "    }\n",
       "\n",
       "    .dataframe thead th {\n",
       "        text-align: right;\n",
       "    }\n",
       "</style>\n",
       "<table border=\"1\" class=\"dataframe\">\n",
       "  <thead>\n",
       "    <tr style=\"text-align: right;\">\n",
       "      <th></th>\n",
       "      <th>movieId</th>\n",
       "      <th>imdbId</th>\n",
       "      <th>tmdbId</th>\n",
       "    </tr>\n",
       "  </thead>\n",
       "  <tbody>\n",
       "    <tr>\n",
       "      <th>57860</th>\n",
       "      <td>195327</td>\n",
       "      <td>2974404</td>\n",
       "      <td>266182.0</td>\n",
       "    </tr>\n",
       "    <tr>\n",
       "      <th>74455</th>\n",
       "      <td>243406</td>\n",
       "      <td>40751</td>\n",
       "      <td>37504.0</td>\n",
       "    </tr>\n",
       "    <tr>\n",
       "      <th>70466</th>\n",
       "      <td>226474</td>\n",
       "      <td>2190316</td>\n",
       "      <td>180779.0</td>\n",
       "    </tr>\n",
       "    <tr>\n",
       "      <th>84403</th>\n",
       "      <td>281936</td>\n",
       "      <td>5529576</td>\n",
       "      <td>999850.0</td>\n",
       "    </tr>\n",
       "    <tr>\n",
       "      <th>18231</th>\n",
       "      <td>95309</td>\n",
       "      <td>1307068</td>\n",
       "      <td>88005.0</td>\n",
       "    </tr>\n",
       "  </tbody>\n",
       "</table>\n",
       "</div>"
      ],
      "text/plain": [
       "       movieId   imdbId    tmdbId\n",
       "57860   195327  2974404  266182.0\n",
       "74455   243406    40751   37504.0\n",
       "70466   226474  2190316  180779.0\n",
       "84403   281936  5529576  999850.0\n",
       "18231    95309  1307068   88005.0"
      ]
     },
     "execution_count": 14,
     "metadata": {},
     "output_type": "execute_result"
    }
   ],
   "source": [
    "links_ml.sample(5)"
   ]
  },
  {
   "cell_type": "markdown",
   "id": "bc938324-d775-420d-98f6-ac570f970976",
   "metadata": {},
   "source": [
    "## Постановка задачи "
   ]
  },
  {
   "cell_type": "code",
   "execution_count": 55,
   "id": "51fee706-efd4-49d1-bd18-6484d9f634f1",
   "metadata": {
    "scrolled": true
   },
   "outputs": [],
   "source": [
    "data.columns = [Columns.User, Columns.Item, Columns.Weight, Columns.Datetime]"
   ]
  },
  {
   "cell_type": "code",
   "execution_count": 56,
   "id": "b29b3111-4fec-482c-a473-9a002481feda",
   "metadata": {},
   "outputs": [
    {
     "data": {
      "text/html": [
       "<div>\n",
       "<style scoped>\n",
       "    .dataframe tbody tr th:only-of-type {\n",
       "        vertical-align: middle;\n",
       "    }\n",
       "\n",
       "    .dataframe tbody tr th {\n",
       "        vertical-align: top;\n",
       "    }\n",
       "\n",
       "    .dataframe thead th {\n",
       "        text-align: right;\n",
       "    }\n",
       "</style>\n",
       "<table border=\"1\" class=\"dataframe\">\n",
       "  <thead>\n",
       "    <tr style=\"text-align: right;\">\n",
       "      <th></th>\n",
       "      <th>user_id</th>\n",
       "      <th>item_id</th>\n",
       "      <th>weight</th>\n",
       "      <th>datetime</th>\n",
       "    </tr>\n",
       "  </thead>\n",
       "  <tbody>\n",
       "    <tr>\n",
       "      <th>0</th>\n",
       "      <td>1</td>\n",
       "      <td>1</td>\n",
       "      <td>4.0</td>\n",
       "      <td>2008-11-03</td>\n",
       "    </tr>\n",
       "    <tr>\n",
       "      <th>1</th>\n",
       "      <td>1</td>\n",
       "      <td>110</td>\n",
       "      <td>4.0</td>\n",
       "      <td>2008-11-05</td>\n",
       "    </tr>\n",
       "    <tr>\n",
       "      <th>2</th>\n",
       "      <td>1</td>\n",
       "      <td>158</td>\n",
       "      <td>4.0</td>\n",
       "      <td>2008-11-03</td>\n",
       "    </tr>\n",
       "    <tr>\n",
       "      <th>3</th>\n",
       "      <td>1</td>\n",
       "      <td>260</td>\n",
       "      <td>4.5</td>\n",
       "      <td>2008-11-03</td>\n",
       "    </tr>\n",
       "    <tr>\n",
       "      <th>4</th>\n",
       "      <td>1</td>\n",
       "      <td>356</td>\n",
       "      <td>5.0</td>\n",
       "      <td>2008-11-03</td>\n",
       "    </tr>\n",
       "    <tr>\n",
       "      <th>...</th>\n",
       "      <td>...</td>\n",
       "      <td>...</td>\n",
       "      <td>...</td>\n",
       "      <td>...</td>\n",
       "    </tr>\n",
       "    <tr>\n",
       "      <th>33832157</th>\n",
       "      <td>330975</td>\n",
       "      <td>8340</td>\n",
       "      <td>2.0</td>\n",
       "      <td>2004-08-04</td>\n",
       "    </tr>\n",
       "    <tr>\n",
       "      <th>33832158</th>\n",
       "      <td>330975</td>\n",
       "      <td>8493</td>\n",
       "      <td>2.5</td>\n",
       "      <td>2004-08-04</td>\n",
       "    </tr>\n",
       "    <tr>\n",
       "      <th>33832159</th>\n",
       "      <td>330975</td>\n",
       "      <td>8622</td>\n",
       "      <td>4.0</td>\n",
       "      <td>2004-08-04</td>\n",
       "    </tr>\n",
       "    <tr>\n",
       "      <th>33832160</th>\n",
       "      <td>330975</td>\n",
       "      <td>8665</td>\n",
       "      <td>3.0</td>\n",
       "      <td>2004-08-04</td>\n",
       "    </tr>\n",
       "    <tr>\n",
       "      <th>33832161</th>\n",
       "      <td>330975</td>\n",
       "      <td>8783</td>\n",
       "      <td>2.5</td>\n",
       "      <td>2004-08-04</td>\n",
       "    </tr>\n",
       "  </tbody>\n",
       "</table>\n",
       "<p>33832162 rows × 4 columns</p>\n",
       "</div>"
      ],
      "text/plain": [
       "          user_id  item_id  weight   datetime\n",
       "0               1        1     4.0 2008-11-03\n",
       "1               1      110     4.0 2008-11-05\n",
       "2               1      158     4.0 2008-11-03\n",
       "3               1      260     4.5 2008-11-03\n",
       "4               1      356     5.0 2008-11-03\n",
       "...           ...      ...     ...        ...\n",
       "33832157   330975     8340     2.0 2004-08-04\n",
       "33832158   330975     8493     2.5 2004-08-04\n",
       "33832159   330975     8622     4.0 2004-08-04\n",
       "33832160   330975     8665     3.0 2004-08-04\n",
       "33832161   330975     8783     2.5 2004-08-04\n",
       "\n",
       "[33832162 rows x 4 columns]"
      ]
     },
     "execution_count": 56,
     "metadata": {},
     "output_type": "execute_result"
    }
   ],
   "source": [
    "data"
   ]
  },
  {
   "cell_type": "code",
   "execution_count": 57,
   "id": "2b176743-4863-4a66-95ff-bda15157adf3",
   "metadata": {
    "scrolled": true
   },
   "outputs": [],
   "source": [
    "dataset = Dataset.construct(data)"
   ]
  },
  {
   "cell_type": "code",
   "execution_count": 58,
   "id": "17f2e91c-5326-4e5f-a628-53b82cd40a51",
   "metadata": {},
   "outputs": [
    {
     "data": {
      "text/plain": [
       "Dataset(user_id_map=IdMap(external_ids=array([     1,      2,      3, ..., 330973, 330974, 330975], dtype=int32)), item_id_map=IdMap(external_ids=array([     1,    110,    158, ..., 228179, 261553, 269782], dtype=int32)), interactions=Interactions(df=          user_id  item_id  weight   datetime\n",
       "0               0        0     4.0 2008-11-03\n",
       "1               0        1     4.0 2008-11-05\n",
       "2               0        2     4.0 2008-11-03\n",
       "3               0        3     4.5 2008-11-03\n",
       "4               0        4     5.0 2008-11-03\n",
       "...           ...      ...     ...        ...\n",
       "33832157   330974     1599     2.0 2004-08-04\n",
       "33832158   330974     5298     2.5 2004-08-04\n",
       "33832159   330974      854     4.0 2004-08-04\n",
       "33832160   330974      495     3.0 2004-08-04\n",
       "33832161   330974     1600     2.5 2004-08-04\n",
       "\n",
       "[33832162 rows x 4 columns]), user_features=None, item_features=None)"
      ]
     },
     "execution_count": 58,
     "metadata": {},
     "output_type": "execute_result"
    }
   ],
   "source": [
    "dataset"
   ]
  },
  {
   "cell_type": "code",
   "execution_count": 50,
   "id": "6dcc5238-d0a5-4a7e-bc3b-b38b622960d1",
   "metadata": {},
   "outputs": [],
   "source": [
    "from rectools.metrics import calc_metrics, Accuracy, NDCG\n"
   ]
  },
  {
   "cell_type": "code",
   "execution_count": 53,
   "id": "3c05ceb9-7240-4caa-a72a-408a31f4d1ec",
   "metadata": {},
   "outputs": [
    {
     "data": {
      "text/plain": [
       "{'accuracy@1': 0.5625, 'ndcg@1': 0.75}"
      ]
     },
     "execution_count": 53,
     "metadata": {},
     "output_type": "execute_result"
    }
   ],
   "source": [
    "reco = pd.DataFrame(\n",
    "    {\n",
    "        Columns.User: [1, 1, 2, 2, 3, 3, 3, 3, 4, 4, 4],\n",
    "        Columns.Item: [7, 8, 1, 2, 1, 2, 3, 4, 1, 2, 3],\n",
    "        Columns.Rank: [1, 2, 1, 2, 1, 2, 3, 4, 1, 2, 3],\n",
    "    }\n",
    ")\n",
    "interactions = pd.DataFrame(\n",
    "    {\n",
    "        Columns.User: [1, 1, 2, 3, 3, 3, 4, 4, 4],\n",
    "        Columns.Item: [1, 2, 1, 1, 3, 4, 1, 2, 3],\n",
    "    }\n",
    ")\n",
    "\n",
    "\n",
    "metrics = {\n",
    "    'ndcg@1': NDCG(k=1),\n",
    "    'accuracy@1': Accuracy(k=1)\n",
    "}\n",
    "calc_metrics(\n",
    "    metrics,\n",
    "    reco=reco,\n",
    "    interactions=interactions,\n",
    "    prev_interactions=interactions,\n",
    "    catalog=interactions[Columns.Item].unique()\n",
    ")\n"
   ]
  }
 ],
 "metadata": {
  "kernelspec": {
   "display_name": "Python 3 (ipykernel)",
   "language": "python",
   "name": "python3"
  },
  "language_info": {
   "codemirror_mode": {
    "name": "ipython",
    "version": 3
   },
   "file_extension": ".py",
   "mimetype": "text/x-python",
   "name": "python",
   "nbconvert_exporter": "python",
   "pygments_lexer": "ipython3",
   "version": "3.10.13"
  }
 },
 "nbformat": 4,
 "nbformat_minor": 5
}
